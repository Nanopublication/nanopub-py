{
 "cells": [
  {
   "cell_type": "markdown",
   "id": "22f0d912-5233-4a2b-b12e-b6ed09cd9078",
   "metadata": {},
   "source": [
    "# Create and publish FDO nanopublications"
   ]
  },
  {
   "cell_type": "markdown",
   "id": "b9b5555b-b43c-4d9f-8d36-33e34c4868d8",
   "metadata": {},
   "source": [
    "For the code below to work, you need to have your profile set up, specifying your ORCID identifier and generating a key pair, using this command:\n",
    "\n",
    "    $ np setup\n",
    "\n",
    "See also: https://nanopublication.github.io/nanopub-py/"
   ]
  },
  {
   "cell_type": "markdown",
   "id": "a0d92b45-db69-47c7-8923-560dbe355d51",
   "metadata": {},
   "source": [
    "### Importing the dependencies"
   ]
  },
  {
   "cell_type": "code",
   "execution_count": 3,
   "id": "4fbc4086-8419-4de7-a73c-528c65e6b820",
   "metadata": {},
   "outputs": [],
   "source": [
    "import rdflib\n",
    "from nanopub import definitions, Nanopub, NanopubClient, load_profile, NanopubConf, FDONanopub\n",
    "import datetime\n",
    "from nanopub.namespaces import HDL, FDOF, PROV"
   ]
  },
  {
   "cell_type": "markdown",
   "id": "677776eb-b962-452e-881f-970d5f991ba1",
   "metadata": {},
   "source": [
    "### Constructing the nanopublication"
   ]
  },
  {
   "cell_type": "code",
   "execution_count": 4,
   "id": "4f28a8a3-9ef9-4e9d-8d8e-c6debe40a6a1",
   "metadata": {},
   "outputs": [
    {
     "name": "stdout",
     "output_type": "stream",
     "text": [
      "@prefix dcterms: <http://purl.org/dc/terms/> .\n",
      "@prefix np: <http://www.nanopub.org/nschema#> .\n",
      "@prefix npx: <http://purl.org/nanopub/x/> .\n",
      "@prefix ns1: <https://hdl.handle.net/21.T11966/> .\n",
      "@prefix ns2: <https://w3id.org/fdof/ontology#> .\n",
      "@prefix orcid: <https://orcid.org/> .\n",
      "@prefix prov: <http://www.w3.org/ns/prov#> .\n",
      "@prefix rdfs: <http://www.w3.org/2000/01/rdf-schema#> .\n",
      "@prefix xsd: <http://www.w3.org/2001/XMLSchema#> .\n",
      "\n",
      "<http://purl.org/nanopub/temp/np/pubinfo> {\n",
      "    <http://purl.org/nanopub/temp/np/> rdfs:label \"FAIR Digital Object: NumberFdo1\" ;\n",
      "        dcterms:creator orcid:0009-0009-0118-9195 ;\n",
      "        npx:introduces <https://hdl.handle.net/21.T11967/39b0ec87d17a4856c5f7> ;\n",
      "        prov:generatedAtTime \"2025-04-24T22:14:33.888843\"^^xsd:dateTime ;\n",
      "        prov:wasAttributedTo orcid:0009-0009-0118-9195 .\n",
      "\n",
      "    ns1:06a6c27e3e2ef27779ec rdfs:label \"DataRef\" .\n",
      "\n",
      "    ns1:06fae297d104953b2eaa rdfs:label \"FdoType\" .\n",
      "\n",
      "    ns1:143d58e30d417a2cb75d rdfs:label \"FDO Status\",\n",
      "            \"FdoStatus\" .\n",
      "\n",
      "    ns1:b5b58656b1fa5aff0505 rdfs:label \"FdoService\" .\n",
      "}\n",
      "\n",
      "<http://purl.org/nanopub/temp/np/provenance> {\n",
      "    <http://purl.org/nanopub/temp/np/assertion> prov:wasAttributedTo orcid:0009-0009-0118-9195 .\n",
      "}\n",
      "\n",
      "<http://purl.org/nanopub/temp/np/assertion> {\n",
      "    <https://hdl.handle.net/21.T11967/39b0ec87d17a4856c5f7> a ns2:FAIRDigitalObject ;\n",
      "        rdfs:label \"NumberFdo1\" ;\n",
      "        ns1:06a6c27e3e2ef27779ec <https://hdl.handle.net/21.T11967/83d2b3f39034b2ac78cd> ;\n",
      "        ns1:06fae297d104953b2eaa \"{\\\"FdoGenre\\\":\\\"21.T11966/365ff9576c26ca6053db\\\",\\\"FdoMimeType\\\":\\\"21.T11966/f919d9f152904f6c40db\\\",\\\"FdoOperations\\\":[\\\"21.T11966/1da6d8c42eb6a685a8b6\\\"]}\"^^xsd:string ;\n",
      "        ns1:143d58e30d417a2cb75d \"created\",\n",
      "            \"published\" ;\n",
      "        ns1:4ee0ae648b243f49850f ns1:4ee0ae648b243f49850f ;\n",
      "        ns1:b5b58656b1fa5aff0505 <https://hdl.handle.net/21.T11967/service> ;\n",
      "        ns2:hasMetadata <http://purl.org/nanopub/temp/np/> .\n",
      "}\n",
      "\n",
      "<http://purl.org/nanopub/temp/np/Head> {\n",
      "    <http://purl.org/nanopub/temp/np/> a np:Nanopublication ;\n",
      "        np:hasAssertion <http://purl.org/nanopub/temp/np/assertion> ;\n",
      "        np:hasProvenance <http://purl.org/nanopub/temp/np/provenance> ;\n",
      "        np:hasPublicationInfo <http://purl.org/nanopub/temp/np/pubinfo> .\n",
      "}\n",
      "\n",
      "\n"
     ]
    }
   ],
   "source": [
    "conf = NanopubConf(\n",
    "    add_prov_generated_time=False,\n",
    "    add_pubinfo_generated_time=True,\n",
    "    attribute_assertion_to_profile=True,\n",
    "    attribute_publication_to_profile=True,\n",
    "    profile=load_profile(),\n",
    "    use_test_server=True\n",
    ")\n",
    "\n",
    "# Example using URI \n",
    "fdo_uri = rdflib.URIRef(HDL[\"21.T11967/39b0ec87d17a4856c5f7\"]) \n",
    "\n",
    "fdopub = FDONanopub(fdo_id=fdo_uri,\n",
    "                    label=\"NumberFdo1\",\n",
    "                    conf=conf)\n",
    "\n",
    "# Adding attributes using URIs\n",
    "fdopub.add_fdo_data_ref(rdflib.URIRef(HDL[\"21.T11967/83d2b3f39034b2ac78cd\"]))\n",
    "fdopub.add_fdo_type('{\"FdoGenre\":\"21.T11966/365ff9576c26ca6053db\",\"FdoMimeType\":\"21.T11966/f919d9f152904f6c40db\",\"FdoOperations\":[\"21.T11966/1da6d8c42eb6a685a8b6\"]}')\n",
    "fdopub.add_fdo_status(\"created\")\n",
    "fdopub.add_fdo_service(rdflib.URIRef(HDL[\"21.T11967/service\"]))\n",
    "\n",
    "fdopub.assertion.add((fdo_uri, FDOF.hasMetadata, fdopub.metadata.np_uri))\n",
    "\n",
    "# Example using handle\n",
    "fdo_handle = \"21.T11967/39b0ec87d17a4856c5f7\" \n",
    "\n",
    "fdopub_handle = FDONanopub(fdo_id=fdo_handle,\n",
    "                        label=\"NumberFdo2\",\n",
    "                        conf=conf)\n",
    "\n",
    "# Adding attributes using handles\n",
    "fdopub_handle.add_fdo_data_ref(\"21.T11967/83d2b3f39034b2ac78cd\")\n",
    "fdopub_handle.add_fdo_type('{\"FdoGenre\":\"21.T11966/365ff9576c26ca6053db\",\"FdoMimeType\":\"21.T11966/f919d9f152904f6c40db\",\"FdoOperations\":[\"21.T11966/1da6d8c42eb6a685a8b6\"]}')\n",
    "fdopub_handle.add_fdo_status(\"created\")\n",
    "fdopub_handle.add_fdo_service(\"21.T11967/service\")\n",
    "\n",
    "fdopub_handle.assertion.add((HDL[fdo_handle], FDOF.hasMetadata, fdopub_handle.metadata.np_uri))\n",
    "\n",
    "orcid_uri = rdflib.URIRef(load_profile().orcid_id)\n",
    "fdopub.provenance.add((fdopub.metadata.assertion, PROV.wasAttributedTo, orcid_uri))\n",
    "fdopub.pubinfo.add((fdopub.metadata.np_uri, rdflib.DCTERMS.creator, orcid_uri))\n",
    "\n",
    "# Manually add attributes and labels\n",
    "fdopub.add_attribute(fdopub.FDO_STATUS_HANDLE, rdflib.Literal(\"published\"))\n",
    "fdopub.add_attribute_label(fdopub.FDO_STATUS_HANDLE, \"FDO Status\")\n",
    "\n",
    "print(fdopub)\n"
   ]
  },
  {
   "cell_type": "markdown",
   "id": "64d82aff-8ed2-46e9-88eb-e486d81d81c7",
   "metadata": {},
   "source": [
    "### Signing the nanopublication"
   ]
  },
  {
   "cell_type": "code",
   "execution_count": 5,
   "id": "d35d7fab-c0a2-4873-b977-bc6ef07b0f76",
   "metadata": {},
   "outputs": [],
   "source": [
    "fdopub.sign()"
   ]
  },
  {
   "cell_type": "code",
   "execution_count": 6,
   "id": "36daecf8-525e-4c71-910b-76cd15a7cdcd",
   "metadata": {},
   "outputs": [
    {
     "name": "stdout",
     "output_type": "stream",
     "text": [
      "Nanopub URI: \u001b[1mhttps://w3id.org/np/RAj968NgOK6jZLNfmVLlDk_B27IUdEnOyTxIlRndrZE2w\u001b[0m\n",
      "@prefix dcterms: <http://purl.org/dc/terms/> .\n",
      "@prefix np: <http://www.nanopub.org/nschema#> .\n",
      "@prefix npx: <http://purl.org/nanopub/x/> .\n",
      "@prefix ns1: <https://hdl.handle.net/21.T11966/> .\n",
      "@prefix ns2: <https://w3id.org/fdof/ontology#> .\n",
      "@prefix orcid: <https://orcid.org/> .\n",
      "@prefix prov: <http://www.w3.org/ns/prov#> .\n",
      "@prefix rdfs: <http://www.w3.org/2000/01/rdf-schema#> .\n",
      "@prefix sub: <https://w3id.org/np/RAj968NgOK6jZLNfmVLlDk_B27IUdEnOyTxIlRndrZE2w/> .\n",
      "@prefix this: <https://w3id.org/np/RAj968NgOK6jZLNfmVLlDk_B27IUdEnOyTxIlRndrZE2w> .\n",
      "@prefix xsd: <http://www.w3.org/2001/XMLSchema#> .\n",
      "\n",
      "sub:Head {\n",
      "    this: a np:Nanopublication ;\n",
      "        np:hasAssertion sub:assertion ;\n",
      "        np:hasProvenance sub:provenance ;\n",
      "        np:hasPublicationInfo sub:pubinfo .\n",
      "}\n",
      "\n",
      "sub:pubinfo {\n",
      "    ns1:06a6c27e3e2ef27779ec rdfs:label \"DataRef\" .\n",
      "\n",
      "    ns1:06fae297d104953b2eaa rdfs:label \"FdoType\" .\n",
      "\n",
      "    ns1:143d58e30d417a2cb75d rdfs:label \"FDO Status\",\n",
      "            \"FdoStatus\" .\n",
      "\n",
      "    ns1:b5b58656b1fa5aff0505 rdfs:label \"FdoService\" .\n",
      "\n",
      "    sub:sig npx:hasAlgorithm \"RSA\" ;\n",
      "        npx:hasPublicKey \"MIIBIjANBgkqhkiG9w0BAQEFAAOCAQ8AMIIBCgKCAQEAw3QafWPHCDnuVY+aTaavfIP9Q6GWzlYL0kTzq7+t11EKQoG6IDcxt1naJ2aftVjMmEn+n1kruckVXGXaBZANNPUJj/Vk1RGF9UqdEb+HI2F8NKxE3/lnwFWDCI4mPOI0AL5MyTOsbkzARbLeW4eMYALYuYHyjkB41OjFqho3uHEUFlVuOgq/SKaTN2iW53hT47DxVs3hSCD5Y3ZPpZzwwSASy/lkAbqdmcOftansqwp6PTlbvyzHp9z6VLWxCNWajndrAMuvFo4a6XegKPTQy5yAd/Q61x9l1hlzuD/iCem/oF/+xFVVD7KH7ZbrSj9b/MVr7emN0w3GGMMiYIeKjQIDAQAB\" ;\n",
      "        npx:hasSignature \"gER5PqA5GEOG1EDrDu3oCbZXZ5MkU8hXOjLEdOi00Monk6gHDhVnZwmzKZf4ZF9KLJgFi3EE62hoNIOyZx0cfdRA1eVM6CoIuHWZmFF/6QVsTqHCvvcnrrt9dFRWoimgWuV+GT8yvts5pAoqndO6IJD8+46O9AvKxSMHGO8arNhUFoZK6zRKELrdKsRxqxcc2//v7Cq3RCB81Tk+QBszpq7/JObaZ6EBoUAnsPgOX1p8/QR+Rh6V4wlRv7AlzDszRK0/XDToY3jtIUGsQjrCE+87gD+ia0xrrDHPT74JNJZsgxCDRkoxin/ZPKCmODBag/OSETEKTGFI5Fdo/0mR6Q==\" ;\n",
      "        npx:hasSignatureTarget this: .\n",
      "\n",
      "    this: rdfs:label \"FAIR Digital Object: NumberFdo1\" ;\n",
      "        dcterms:creator orcid:0009-0009-0118-9195 ;\n",
      "        npx:introduces <https://hdl.handle.net/21.T11967/39b0ec87d17a4856c5f7> ;\n",
      "        prov:generatedAtTime \"2025-04-24T22:14:33.888843\"^^xsd:dateTime ;\n",
      "        prov:wasAttributedTo orcid:0009-0009-0118-9195 .\n",
      "}\n",
      "\n",
      "sub:provenance {\n",
      "    sub:assertion prov:wasAttributedTo orcid:0009-0009-0118-9195 .\n",
      "}\n",
      "\n",
      "sub:assertion {\n",
      "    <https://hdl.handle.net/21.T11967/39b0ec87d17a4856c5f7> a ns2:FAIRDigitalObject ;\n",
      "        rdfs:label \"NumberFdo1\" ;\n",
      "        ns1:06a6c27e3e2ef27779ec <https://hdl.handle.net/21.T11967/83d2b3f39034b2ac78cd> ;\n",
      "        ns1:06fae297d104953b2eaa \"{\\\"FdoGenre\\\":\\\"21.T11966/365ff9576c26ca6053db\\\",\\\"FdoMimeType\\\":\\\"21.T11966/f919d9f152904f6c40db\\\",\\\"FdoOperations\\\":[\\\"21.T11966/1da6d8c42eb6a685a8b6\\\"]}\"^^xsd:string ;\n",
      "        ns1:143d58e30d417a2cb75d \"created\",\n",
      "            \"published\" ;\n",
      "        ns1:4ee0ae648b243f49850f ns1:4ee0ae648b243f49850f ;\n",
      "        ns1:b5b58656b1fa5aff0505 <https://hdl.handle.net/21.T11967/service> ;\n",
      "        ns2:hasMetadata this: .\n",
      "}\n",
      "\n",
      "\n"
     ]
    }
   ],
   "source": [
    "print(fdopub)"
   ]
  },
  {
   "cell_type": "code",
   "execution_count": 7,
   "id": "6e200b32-8b14-4708-a295-013fc5b02fd3",
   "metadata": {},
   "outputs": [
    {
     "name": "stdout",
     "output_type": "stream",
     "text": [
      "https://w3id.org/np/RAj968NgOK6jZLNfmVLlDk_B27IUdEnOyTxIlRndrZE2w\n"
     ]
    }
   ],
   "source": [
    "npuri = fdopub.metadata.np_uri\n",
    "print(npuri)"
   ]
  },
  {
   "cell_type": "markdown",
   "id": "1b6b5458-d6ec-4b67-ac2f-40814cb92f96",
   "metadata": {},
   "source": [
    "### Publishing the nanopublication"
   ]
  },
  {
   "cell_type": "code",
   "execution_count": 8,
   "id": "04594731-b05b-4539-ba96-3afb8211c2ba",
   "metadata": {},
   "outputs": [],
   "source": [
    "fdopub.publish()"
   ]
  },
  {
   "cell_type": "markdown",
   "id": "7a2df19a-8977-4633-a008-84fdcf916a60",
   "metadata": {},
   "source": [
    "# Fetch again the published nanopublication from the network"
   ]
  },
  {
   "cell_type": "code",
   "execution_count": 9,
   "id": "c3caf636-8dcc-4db9-8a64-94f909dc019c",
   "metadata": {},
   "outputs": [],
   "source": [
    "fetchConf = NanopubConf(\n",
    "    use_test_server=True\n",
    ")\n",
    "fetchNp = Nanopub(npuri, conf=fetchConf)"
   ]
  },
  {
   "cell_type": "code",
   "execution_count": 10,
   "id": "d9de99b4-208c-48d6-a2e5-293d46d40ae8",
   "metadata": {},
   "outputs": [
    {
     "name": "stdout",
     "output_type": "stream",
     "text": [
      "Nanopub URI: \u001b[1mhttps://w3id.org/np/RAj968NgOK6jZLNfmVLlDk_B27IUdEnOyTxIlRndrZE2w\u001b[0m\n",
      "@prefix dcterms: <http://purl.org/dc/terms/> .\n",
      "@prefix np: <http://www.nanopub.org/nschema#> .\n",
      "@prefix npx: <http://purl.org/nanopub/x/> .\n",
      "@prefix ns1: <https://hdl.handle.net/21.T11966/> .\n",
      "@prefix ns2: <https://w3id.org/fdof/ontology#> .\n",
      "@prefix orcid: <https://orcid.org/> .\n",
      "@prefix prov: <http://www.w3.org/ns/prov#> .\n",
      "@prefix rdfs: <http://www.w3.org/2000/01/rdf-schema#> .\n",
      "@prefix sub: <https://w3id.org/np/RAj968NgOK6jZLNfmVLlDk_B27IUdEnOyTxIlRndrZE2w/> .\n",
      "@prefix this: <https://w3id.org/np/RAj968NgOK6jZLNfmVLlDk_B27IUdEnOyTxIlRndrZE2w> .\n",
      "@prefix xsd: <http://www.w3.org/2001/XMLSchema#> .\n",
      "\n",
      "sub:pubinfo {\n",
      "    ns1:06a6c27e3e2ef27779ec rdfs:label \"DataRef\" .\n",
      "\n",
      "    ns1:06fae297d104953b2eaa rdfs:label \"FdoType\" .\n",
      "\n",
      "    ns1:143d58e30d417a2cb75d rdfs:label \"FDO Status\",\n",
      "            \"FdoStatus\" .\n",
      "\n",
      "    ns1:b5b58656b1fa5aff0505 rdfs:label \"FdoService\" .\n",
      "\n",
      "    sub:sig npx:hasAlgorithm \"RSA\" ;\n",
      "        npx:hasPublicKey \"MIIBIjANBgkqhkiG9w0BAQEFAAOCAQ8AMIIBCgKCAQEAw3QafWPHCDnuVY+aTaavfIP9Q6GWzlYL0kTzq7+t11EKQoG6IDcxt1naJ2aftVjMmEn+n1kruckVXGXaBZANNPUJj/Vk1RGF9UqdEb+HI2F8NKxE3/lnwFWDCI4mPOI0AL5MyTOsbkzARbLeW4eMYALYuYHyjkB41OjFqho3uHEUFlVuOgq/SKaTN2iW53hT47DxVs3hSCD5Y3ZPpZzwwSASy/lkAbqdmcOftansqwp6PTlbvyzHp9z6VLWxCNWajndrAMuvFo4a6XegKPTQy5yAd/Q61x9l1hlzuD/iCem/oF/+xFVVD7KH7ZbrSj9b/MVr7emN0w3GGMMiYIeKjQIDAQAB\" ;\n",
      "        npx:hasSignature \"gER5PqA5GEOG1EDrDu3oCbZXZ5MkU8hXOjLEdOi00Monk6gHDhVnZwmzKZf4ZF9KLJgFi3EE62hoNIOyZx0cfdRA1eVM6CoIuHWZmFF/6QVsTqHCvvcnrrt9dFRWoimgWuV+GT8yvts5pAoqndO6IJD8+46O9AvKxSMHGO8arNhUFoZK6zRKELrdKsRxqxcc2//v7Cq3RCB81Tk+QBszpq7/JObaZ6EBoUAnsPgOX1p8/QR+Rh6V4wlRv7AlzDszRK0/XDToY3jtIUGsQjrCE+87gD+ia0xrrDHPT74JNJZsgxCDRkoxin/ZPKCmODBag/OSETEKTGFI5Fdo/0mR6Q==\" ;\n",
      "        npx:hasSignatureTarget this: .\n",
      "\n",
      "    this: rdfs:label \"FAIR Digital Object: NumberFdo1\" ;\n",
      "        dcterms:creator orcid:0009-0009-0118-9195 ;\n",
      "        npx:introduces <https://hdl.handle.net/21.T11967/39b0ec87d17a4856c5f7> ;\n",
      "        prov:generatedAtTime \"2025-04-24T22:14:33.888843\"^^xsd:dateTime ;\n",
      "        prov:wasAttributedTo orcid:0009-0009-0118-9195 .\n",
      "}\n",
      "\n",
      "sub:Head {\n",
      "    this: a np:Nanopublication ;\n",
      "        np:hasAssertion sub:assertion ;\n",
      "        np:hasProvenance sub:provenance ;\n",
      "        np:hasPublicationInfo sub:pubinfo .\n",
      "}\n",
      "\n",
      "sub:assertion {\n",
      "    <https://hdl.handle.net/21.T11967/39b0ec87d17a4856c5f7> a ns2:FAIRDigitalObject ;\n",
      "        rdfs:label \"NumberFdo1\" ;\n",
      "        ns1:06a6c27e3e2ef27779ec <https://hdl.handle.net/21.T11967/83d2b3f39034b2ac78cd> ;\n",
      "        ns1:06fae297d104953b2eaa \"{\\\"FdoGenre\\\":\\\"21.T11966/365ff9576c26ca6053db\\\",\\\"FdoMimeType\\\":\\\"21.T11966/f919d9f152904f6c40db\\\",\\\"FdoOperations\\\":[\\\"21.T11966/1da6d8c42eb6a685a8b6\\\"]}\" ;\n",
      "        ns1:143d58e30d417a2cb75d \"created\",\n",
      "            \"published\" ;\n",
      "        ns1:4ee0ae648b243f49850f ns1:4ee0ae648b243f49850f ;\n",
      "        ns1:b5b58656b1fa5aff0505 <https://hdl.handle.net/21.T11967/service> ;\n",
      "        ns2:hasMetadata this: .\n",
      "}\n",
      "\n",
      "sub:provenance {\n",
      "    sub:assertion prov:wasAttributedTo orcid:0009-0009-0118-9195 .\n",
      "}\n",
      "\n",
      "\n"
     ]
    }
   ],
   "source": [
    "print(fetchNp)"
   ]
  }
 ],
 "metadata": {
  "kernelspec": {
   "display_name": "Python 3 (ipykernel)",
   "language": "python",
   "name": "python3"
  },
  "language_info": {
   "codemirror_mode": {
    "name": "ipython",
    "version": 3
   },
   "file_extension": ".py",
   "mimetype": "text/x-python",
   "name": "python",
   "nbconvert_exporter": "python",
   "pygments_lexer": "ipython3",
   "version": "3.11.11"
  }
 },
 "nbformat": 4,
 "nbformat_minor": 5
}
