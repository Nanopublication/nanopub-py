{
 "cells": [
  {
   "cell_type": "markdown",
   "id": "pacific-subject",
   "metadata": {},
   "source": [
    "# Create the Nanopub client\n",
    "Simply enough: client = NanopubClient()"
   ]
  },
  {
   "cell_type": "code",
   "execution_count": 2,
   "id": "expired-auction",
   "metadata": {},
   "outputs": [],
   "source": [
    "from nanopub import NanopubClient"
   ]
  },
  {
   "cell_type": "code",
   "execution_count": null,
   "id": "champion-father",
   "metadata": {},
   "outputs": [],
   "source": []
  },
  {
   "cell_type": "markdown",
   "id": "recorded-bolivia",
   "metadata": {},
   "source": [
    "# Searching the nanopub servers\n",
    "Can try e.g.:\n",
    "- client.find_nanopubs_with_text('fair')\n",
    "- client.find_nanopubs_with_pattern(\n",
    "pred='http://www.w3.org/1999/02/22-rdf-syntax-ns#type',              obj='http://www.w3.org/1999/02/22-rdf-syntax-ns#Statement')\n",
    "- client.find_things('http://purl.org/net/p-plan#Step')"
   ]
  },
  {
   "cell_type": "code",
   "execution_count": null,
   "id": "normal-september",
   "metadata": {},
   "outputs": [],
   "source": []
  },
  {
   "cell_type": "code",
   "execution_count": null,
   "id": "biblical-layer",
   "metadata": {},
   "outputs": [],
   "source": []
  },
  {
   "cell_type": "code",
   "execution_count": null,
   "id": "guilty-spider",
   "metadata": {},
   "outputs": [],
   "source": []
  },
  {
   "cell_type": "markdown",
   "id": "impressed-luxembourg",
   "metadata": {},
   "source": [
    "# Fetch nanopubs as Publication objects\n",
    "- Use the client.fetch() method"
   ]
  },
  {
   "cell_type": "code",
   "execution_count": null,
   "id": "acoustic-edmonton",
   "metadata": {},
   "outputs": [],
   "source": []
  },
  {
   "cell_type": "code",
   "execution_count": null,
   "id": "dominican-trainer",
   "metadata": {},
   "outputs": [],
   "source": []
  },
  {
   "cell_type": "code",
   "execution_count": null,
   "id": "liquid-impression",
   "metadata": {},
   "outputs": [],
   "source": []
  },
  {
   "cell_type": "markdown",
   "id": "expected-commercial",
   "metadata": {},
   "source": [
    "# Set up your nanopub profile\n",
    "- Needed for publishing\n",
    "- Use the setup_nanopub_profile commandline tool created by Djura"
   ]
  },
  {
   "cell_type": "code",
   "execution_count": null,
   "id": "faced-chosen",
   "metadata": {},
   "outputs": [],
   "source": []
  },
  {
   "cell_type": "code",
   "execution_count": null,
   "id": "placed-banks",
   "metadata": {},
   "outputs": [],
   "source": []
  },
  {
   "cell_type": "code",
   "execution_count": null,
   "id": "connected-reconstruction",
   "metadata": {},
   "outputs": [],
   "source": []
  },
  {
   "cell_type": "markdown",
   "id": "numerous-staff",
   "metadata": {},
   "source": [
    "# Publish a simple claim\n",
    "- Use client.claim()"
   ]
  },
  {
   "cell_type": "code",
   "execution_count": null,
   "id": "scenic-miracle",
   "metadata": {},
   "outputs": [],
   "source": []
  },
  {
   "cell_type": "code",
   "execution_count": null,
   "id": "split-roberts",
   "metadata": {},
   "outputs": [],
   "source": []
  },
  {
   "cell_type": "code",
   "execution_count": null,
   "id": "oriental-costume",
   "metadata": {},
   "outputs": [],
   "source": []
  },
  {
   "cell_type": "markdown",
   "id": "further-radius",
   "metadata": {},
   "source": [
    "# Create a Publication from a general RDF graph\n",
    "- Make an RDF graph containing one triple: (rdflib.BNode('somesortofconcept'), rdflib.RDF.type, rdflib.FOAF.Person )\n",
    "- Turn it into a Publication using the Publication.from_assertion() class method"
   ]
  },
  {
   "cell_type": "code",
   "execution_count": null,
   "id": "pressing-intake",
   "metadata": {},
   "outputs": [],
   "source": []
  },
  {
   "cell_type": "code",
   "execution_count": null,
   "id": "small-riverside",
   "metadata": {},
   "outputs": [],
   "source": []
  },
  {
   "cell_type": "code",
   "execution_count": null,
   "id": "limited-eating",
   "metadata": {},
   "outputs": [],
   "source": []
  },
  {
   "cell_type": "markdown",
   "id": "angry-integer",
   "metadata": {},
   "source": [
    "# Publish it\n",
    "- Use client.publish()"
   ]
  },
  {
   "cell_type": "code",
   "execution_count": null,
   "id": "tested-eugene",
   "metadata": {},
   "outputs": [],
   "source": []
  },
  {
   "cell_type": "code",
   "execution_count": null,
   "id": "going-hollywood",
   "metadata": {},
   "outputs": [],
   "source": []
  },
  {
   "cell_type": "code",
   "execution_count": null,
   "id": "scenic-shoot",
   "metadata": {},
   "outputs": [],
   "source": []
  },
  {
   "cell_type": "markdown",
   "id": "confirmed-mathematics",
   "metadata": {},
   "source": [
    "# Retract it\n",
    "- Use client.retract()"
   ]
  },
  {
   "cell_type": "code",
   "execution_count": null,
   "id": "tired-coach",
   "metadata": {},
   "outputs": [],
   "source": []
  },
  {
   "cell_type": "code",
   "execution_count": null,
   "id": "french-praise",
   "metadata": {},
   "outputs": [],
   "source": []
  },
  {
   "cell_type": "code",
   "execution_count": null,
   "id": "photographic-outside",
   "metadata": {},
   "outputs": [],
   "source": []
  }
 ],
 "metadata": {
  "kernelspec": {
   "display_name": "Python 3",
   "language": "python",
   "name": "python3"
  },
  "language_info": {
   "codemirror_mode": {
    "name": "ipython",
    "version": 3
   },
   "file_extension": ".py",
   "mimetype": "text/x-python",
   "name": "python",
   "nbconvert_exporter": "python",
   "pygments_lexer": "ipython3",
   "version": "3.8.5"
  }
 },
 "nbformat": 4,
 "nbformat_minor": 5
}
