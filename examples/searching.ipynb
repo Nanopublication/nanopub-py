{
 "cells": [
  {
   "cell_type": "code",
   "execution_count": 1,
   "metadata": {},
   "outputs": [],
   "source": [
    "from pprint import pprint\n",
    "from nanopub import NanopubClient, profile"
   ]
  },
  {
   "cell_type": "code",
   "execution_count": 3,
   "metadata": {},
   "outputs": [],
   "source": [
    "client = NanopubClient()"
   ]
  },
  {
   "cell_type": "code",
   "execution_count": 8,
   "metadata": {},
   "outputs": [
    {
     "name": "stderr",
     "output_type": "stream",
     "text": [
      "/Users/svenvanderburg/projects/fair-workflows/nanopub/nanopub/client.py:106: UserWarning: Could not get response from http://130.60.24.146:7881/api/local/local/, trying other servers\n",
      "  warnings.warn(f'Could not get response from {grlc_url}, trying other servers')\n"
     ]
    }
   ],
   "source": [
    "results = client.find_nanopubs_with_text('fair', max_num_results=3)"
   ]
  },
  {
   "cell_type": "code",
   "execution_count": 9,
   "metadata": {},
   "outputs": [
    {
     "name": "stdout",
     "output_type": "stream",
     "text": [
      "[{'date': '2020-05-01T08:05:25.575Z',\n",
      "  'description': 'The primary objective of the VODAN Implementation Network is '\n",
      "                 'to showcase the creation and deployment of FAIR data related '\n",
      "                 'to COVID-19',\n",
      "  'np': 'http://purl.org/np/RAdDKjIGPt_2mE9oJtB3YQX6wGGdCC8ZWpkxEIoHsxOjE'},\n",
      " {'date': '2020-05-14T09:34:53.554Z',\n",
      "  'description': 'FAIR IN community',\n",
      "  'np': 'http://purl.org/np/RAPE0A-NrIZDeX3pvFJr0uHshocfXuUj8n_J3BkY0sMuU'},\n",
      " {'date': '2020-05-14T09:34:53.554Z',\n",
      "  'description': 'Defining a FAIR IN community',\n",
      "  'np': 'http://purl.org/np/RAPE0A-NrIZDeX3pvFJr0uHshocfXuUj8n_J3BkY0sMuU'}]\n"
     ]
    }
   ],
   "source": [
    "pprint(results)"
   ]
  },
  {
   "cell_type": "code",
   "execution_count": 12,
   "metadata": {},
   "outputs": [],
   "source": [
    "results = client.find_nanopubs_with_pattern(\n",
    "                pred='http://www.w3.org/1999/02/22-rdf-syntax-ns#type',\n",
    "                obj='http://www.w3.org/1999/02/22-rdf-syntax-ns#Statement',\n",
    "                max_num_results=3)"
   ]
  },
  {
   "cell_type": "code",
   "execution_count": 13,
   "metadata": {},
   "outputs": [
    {
     "name": "stdout",
     "output_type": "stream",
     "text": [
      "[{'date': '2020-06-16T08:36:19.849Z',\n",
      "  'np': 'http://purl.org/np/RAV51TP6VFVfDAw34xOAe1p5xGlBp7DnSiLXuXcWGEILc',\n",
      "  'v': ''},\n",
      " {'date': '2020-06-16T08:36:19.849Z',\n",
      "  'np': 'http://purl.org/np/RAV51TP6VFVfDAw34xOAe1p5xGlBp7DnSiLXuXcWGEILc',\n",
      "  'v': ''},\n",
      " {'date': '2020-06-16T08:36:19.849Z',\n",
      "  'np': 'http://purl.org/np/RAV51TP6VFVfDAw34xOAe1p5xGlBp7DnSiLXuXcWGEILc',\n",
      "  'v': ''}]\n"
     ]
    }
   ],
   "source": [
    "pprint(results)"
   ]
  },
  {
   "cell_type": "code",
   "execution_count": 6,
   "metadata": {},
   "outputs": [],
   "source": [
    "results = client.find_things('http://purl.org/net/p-plan#Step', searchterm= 'procedure', max_num_results=5)"
   ]
  },
  {
   "cell_type": "code",
   "execution_count": 7,
   "metadata": {},
   "outputs": [
    {
     "name": "stdout",
     "output_type": "stream",
     "text": [
      "[{'date': '2020-10-27T13:48:21.458Z',\n",
      "  'description': 'String describing the procedure that happens in this step',\n",
      "  'np': 'http://purl.org/np/RAM9FwSpQv90LiA9gE2l0B5dDDl2FqBzeplDYoqqgygtQ'},\n",
      " {'date': '2020-10-27T13:52:33.848Z',\n",
      "  'description': 'String describing the procedure that happens in this step',\n",
      "  'np': 'http://purl.org/np/RAADVRLcYOyRf4oXiU6W0PZmjtpEeQJHMztK7lOqZDopk'},\n",
      " {'date': '2020-10-27T13:41:03.655Z',\n",
      "  'description': 'String describing the procedure that happens in this step',\n",
      "  'np': 'http://purl.org/np/RA9pb02vowejOX9i5epUj_KK9YthU-BCVBZGjz92eTE8E'},\n",
      " {'date': '2020-10-27T13:41:41.551Z',\n",
      "  'description': 'String describing the procedure that happens in this step',\n",
      "  'np': 'http://purl.org/np/RAfALpmuHGMLs8ddzbBJX-N39YkVe93zC_M1nhSD1Cnt0'}]\n"
     ]
    }
   ],
   "source": [
    "pprint(results)"
   ]
  },
  {
   "cell_type": "code",
   "execution_count": 8,
   "metadata": {},
   "outputs": [
    {
     "name": "stdout",
     "output_type": "stream",
     "text": [
      "[{'date': '2020-10-27T10:41:16.868Z',\n",
      "  'description': 'Preheat an oven to 350 degrees F (175 degrees C).',\n",
      "  'np': 'http://purl.org/np/RAUjsAHed4XbZ62uwXUF3t-F23Thol4Av6g2LT3m_VN4k'},\n",
      " {'date': '2020-10-27T10:58:42.664Z',\n",
      "  'description': 'Preheat an oven to 350 degrees F (175 degrees C).',\n",
      "  'np': 'http://purl.org/np/RA1pK9JQDyBHYGcl1zu4wh3BUmh47oE5RfldZh1Ml4XQw'},\n",
      " {'date': '2020-10-27T10:58:44.040Z',\n",
      "  'description': 'Melt the butter in a skillet over medium heat. Add the apple '\n",
      "                 'and onion to the melted butter, season with the curry '\n",
      "                 'powder, and cook and stir until the apple and onion are '\n",
      "                 'tender, 7 to 10 minutes. Stir the mushroom soup and '\n",
      "                 'half-and-half into the mixture until completely combined; '\n",
      "                 'spoon over the chicken pieces.',\n",
      "  'np': 'http://purl.org/np/RAz-A7EGUT9VCrSjK92HHc9DjwBssuc5eMdF09u1Psx5Q'},\n",
      " {'date': '2020-10-27T10:58:45.317Z',\n",
      "  'description': 'Arrange the chicken pieces in a single layer in a 9x13-inch '\n",
      "                 'baking dish. Season the chicken liberally with salt, pepper, '\n",
      "                 'and the paprika; set aside.',\n",
      "  'np': 'http://purl.org/np/RAfAJos5jSLTQ4sBoJj2Orau3xxa3AMa2QSvoEVLVtUwE'},\n",
      " {'date': '2020-10-27T13:41:03.655Z',\n",
      "  'description': 'String describing the procedure that happens in this step',\n",
      "  'np': 'http://purl.org/np/RA9pb02vowejOX9i5epUj_KK9YthU-BCVBZGjz92eTE8E'}]\n"
     ]
    }
   ],
   "source": [
    "results = client.find_things('http://purl.org/net/p-plan#Step', max_num_results=5)\n",
    "pprint(results)"
   ]
  },
  {
   "cell_type": "code",
   "execution_count": 2,
   "metadata": {},
   "outputs": [],
   "source": [
    "from nanopub import NanopubClient, profile\n",
    "# Search for nanopublications containing the text test,\n",
    "# filtering on publications signed with my publication key.\n",
    "client = NanopubClient(use_test_server=True)\n",
    "my_public_key = profile.get_public_key()\n",
    "results = client.find_nanopubs_with_text('test', pubkey=my_public_key)"
   ]
  },
  {
   "cell_type": "code",
   "execution_count": 3,
   "metadata": {},
   "outputs": [
    {
     "data": {
      "text/plain": [
       "[{'np': 'http://purl.org/np/RAwNAVOl2lydH8HqRK9v85Yx2L-T1o6EIuS1KCpEWmDpk',\n",
       "  'description': 'Test',\n",
       "  'date': '2020-12-03T15:52:24.167Z'},\n",
       " {'np': 'http://purl.org/np/RAwNAVOl2lydH8HqRK9v85Yx2L-T1o6EIuS1KCpEWmDpk',\n",
       "  'description': 'This is a test workflow.',\n",
       "  'date': '2020-12-03T15:52:24.167Z'}]"
      ]
     },
     "execution_count": 3,
     "metadata": {},
     "output_type": "execute_result"
    }
   ],
   "source": [
    "results"
   ]
  },
  {
   "cell_type": "code",
   "execution_count": null,
   "metadata": {},
   "outputs": [],
   "source": []
  }
 ],
 "metadata": {
  "kernelspec": {
   "display_name": "Python [conda env:fair3.6] *",
   "language": "python",
   "name": "conda-env-fair3.6-py"
  },
  "language_info": {
   "codemirror_mode": {
    "name": "ipython",
    "version": 3
   },
   "file_extension": ".py",
   "mimetype": "text/x-python",
   "name": "python",
   "nbconvert_exporter": "python",
   "pygments_lexer": "ipython3",
   "version": "3.6.10"
  }
 },
 "nbformat": 4,
 "nbformat_minor": 4
}
