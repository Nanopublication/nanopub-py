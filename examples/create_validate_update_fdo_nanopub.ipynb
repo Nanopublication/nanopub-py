{
 "cells": [
  {
   "cell_type": "markdown",
   "id": "22f0d912-5233-4a2b-b12e-b6ed09cd9078",
   "metadata": {
    "panel-layout": {
     "height": 60.59375,
     "visible": true,
     "width": 100
    }
   },
   "source": [
    "# Create, validate, and update FDO nanopublications"
   ]
  },
  {
   "cell_type": "markdown",
   "id": "b9b5555b-b43c-4d9f-8d36-33e34c4868d8",
   "metadata": {
    "panel-layout": {
     "height": 109.421875,
     "visible": true,
     "width": 100
    }
   },
   "source": [
    "For the code below to work, you need to have your profile set up, specifying your ORCID identifier and generating a key pair, using this command:\n",
    "\n",
    "    $ np setup\n",
    "\n",
    "See also: https://nanopublication.github.io/nanopub-py/"
   ]
  },
  {
   "cell_type": "markdown",
   "id": "a0d92b45-db69-47c7-8923-560dbe355d51",
   "metadata": {
    "panel-layout": {
     "height": 44.09375,
     "visible": true,
     "width": 100
    }
   },
   "source": [
    "### Importing the dependencies"
   ]
  },
  {
   "cell_type": "code",
   "execution_count": 1,
   "id": "4fbc4086-8419-4de7-a73c-528c65e6b820",
   "metadata": {},
   "outputs": [],
   "source": [
    "import rdflib\n",
    "from rdflib.namespace import RDF, SH, XSD\n",
    "from nanopub import (\n",
    "    definitions,\n",
    "    Nanopub,\n",
    "    NanopubClient,\n",
    "    load_profile,\n",
    "    NanopubConf,\n",
    ")\n",
    "from nanopub.fdo import (\n",
    "    FdoNanopub,\n",
    "    FdoRecord,\n",
    "    update_metadata,\n",
    "    retrieve_metadata_from_id,\n",
    "    validate_fdo_nanopub,\n",
    ")\n",
    "import datetime\n",
    "from nanopub.namespaces import HDL, FDOF, PROV, NPX, NP\n",
    "from pyshacl import validate\n",
    "from rdflib import Graph, URIRef, Literal\n",
    "import requests\n",
    "import json\n"
   ]
  },
  {
   "cell_type": "markdown",
   "id": "677776eb-b962-452e-881f-970d5f991ba1",
   "metadata": {
    "panel-layout": {
     "height": 44.09375,
     "visible": true,
     "width": 100
    }
   },
   "source": [
    "### Constructing the nanopublication from an existing handle or from an FDO IRI"
   ]
  },
  {
   "cell_type": "code",
   "execution_count": 2,
   "id": "4f28a8a3-9ef9-4e9d-8d8e-c6debe40a6a1",
   "metadata": {
    "panel-layout": {
     "height": 0,
     "visible": true,
     "width": 100
    }
   },
   "outputs": [
    {
     "name": "stdout",
     "output_type": "stream",
     "text": [
      "@prefix np: <http://www.nanopub.org/nschema#> .\n",
      "@prefix npx: <http://purl.org/nanopub/x/> .\n",
      "@prefix ns1: <https://hdl.handle.net/21.T11966/> .\n",
      "@prefix ns2: <https://w3id.org/fdof/ontology#> .\n",
      "@prefix ns3: <https://hdl.handle.net/0.TYPE/> .\n",
      "@prefix ns4: <https://hdl.handle.net/10320/> .\n",
      "@prefix orcid: <https://orcid.org/> .\n",
      "@prefix prov: <http://www.w3.org/ns/prov#> .\n",
      "@prefix rdfs: <http://www.w3.org/2000/01/rdf-schema#> .\n",
      "@prefix xsd: <http://www.w3.org/2001/XMLSchema#> .\n",
      "\n",
      "<http://purl.org/nanopub/temp/np/Head> {\n",
      "    <http://purl.org/nanopub/temp/np/> a np:Nanopublication ;\n",
      "        np:hasAssertion <http://purl.org/nanopub/temp/np/assertion> ;\n",
      "        np:hasProvenance <http://purl.org/nanopub/temp/np/provenance> ;\n",
      "        np:hasPublicationInfo <http://purl.org/nanopub/temp/np/pubinfo> .\n",
      "}\n",
      "\n",
      "<http://purl.org/nanopub/temp/np/pubinfo> {\n",
      "    <http://purl.org/nanopub/temp/np/> a npx:ExampleNanopub ;\n",
      "        rdfs:label \"FAIR Digital Object: 21.T11966/82045bd97a0acce88378\" ;\n",
      "        npx:introduces ns1:82045bd97a0acce88378 ;\n",
      "        prov:generatedAtTime \"2025-06-05T13:18:34.835840\"^^xsd:dateTime ;\n",
      "        prov:wasAttributedTo orcid:0009-0009-0118-9195 .\n",
      "}\n",
      "\n",
      "<http://purl.org/nanopub/temp/np/assertion> {\n",
      "    ns1:82045bd97a0acce88378 a ns2:FAIRDigitalObject ;\n",
      "        rdfs:label \"21.T11966/82045bd97a0acce88378\" ;\n",
      "        ns3:DOIPService \"21.T11966/service\" ;\n",
      "        ns4:loc \"\"\"<locations>\n",
      "<location href=\"http://typeregistry.testbed.pid.gwdg.de/objects/21.T11966/82045bd97a0acce88378\" weight=\"0\" view=\"json\" />\n",
      "<location href=\"http://typeregistry.testbed.pid.gwdg.de/#objects/21.T11966/82045bd97a0acce88378\" weight=\"1\" view=\"ui\" />\n",
      "</locations>\"\"\" ;\n",
      "        ns1:JsonSchema \"{\\\"$ref\\\": \\\"https://typeapi.lab.pidconsortium.net/v1/types/schema/21.T11966/82045bd97a0acce88378\\\"}\" ;\n",
      "        ns1:b5b58656b1fa5aff0505 \"21.T11966/service\" ;\n",
      "        ns2:hasFdoProfile ns1:996c38676da9ee56f8ab ;\n",
      "        ns2:hasMetadata <http://purl.org/nanopub/temp/np/> .\n",
      "}\n",
      "\n",
      "<http://purl.org/nanopub/temp/np/provenance> {\n",
      "    <http://purl.org/nanopub/temp/np/assertion> prov:wasAttributedTo orcid:0009-0009-0118-9195 .\n",
      "}\n",
      "\n",
      "\n",
      "@prefix np: <http://www.nanopub.org/nschema#> .\n",
      "@prefix npx: <http://purl.org/nanopub/x/> .\n",
      "@prefix ns1: <https://w3id.org/fdof/ontology#> .\n",
      "@prefix rdfs: <http://www.w3.org/2000/01/rdf-schema#> .\n",
      "\n",
      "<http://purl.org/nanopub/temp/np/Head> {\n",
      "    <http://purl.org/nanopub/temp/np/> a np:Nanopublication ;\n",
      "        np:hasAssertion <http://purl.org/nanopub/temp/np/assertion> ;\n",
      "        np:hasProvenance <http://purl.org/nanopub/temp/np/provenance> ;\n",
      "        np:hasPublicationInfo <http://purl.org/nanopub/temp/np/pubinfo> .\n",
      "}\n",
      "\n",
      "<http://purl.org/nanopub/temp/np/pubinfo> {\n",
      "    <http://purl.org/nanopub/temp/np/> rdfs:label \"FAIR Digital Object: Example FDO\" ;\n",
      "        npx:introduces <http://handle.net/21.T11966/82045bd97a0acce88378> .\n",
      "}\n",
      "\n",
      "<http://purl.org/nanopub/temp/np/assertion> {\n",
      "    <http://handle.net/21.T11966/82045bd97a0acce88378> a ns1:FAIRDigitalObject ;\n",
      "        rdfs:label \"Example FDO\" ;\n",
      "        ns1:hasFdoProfile <https://hdl.handle.net/21.T11966/996c38676da9ee56f8ab> ;\n",
      "        ns1:hasMetadata <http://purl.org/nanopub/temp/np/> .\n",
      "}\n",
      "\n",
      "\n"
     ]
    }
   ],
   "source": [
    "conf = NanopubConf(\n",
    "    add_prov_generated_time=False,\n",
    "    add_pubinfo_generated_time=True,\n",
    "    attribute_assertion_to_profile=True,\n",
    "    attribute_publication_to_profile=True,\n",
    "    profile=load_profile(),\n",
    "    use_test_server=True\n",
    ")\n",
    "\n",
    "handle = \"21.T11966/82045bd97a0acce88378\"\n",
    "npub = FdoNanopub.handle_to_nanopub(handle, conf=conf) \n",
    "\n",
    "for s in npub.head.subjects(RDF.type, NP.Nanopublication):\n",
    "    nanopub_subject = s\n",
    "    break \n",
    "\n",
    "# Add NanopubExample type\n",
    "npub.pubinfo.add((\n",
    "    nanopub_subject,\n",
    "    RDF.type,\n",
    "    NPX.ExampleNanopub\n",
    "))\n",
    "\n",
    "print(npub)\n",
    "\n",
    "\n",
    "fdo2 = FdoNanopub.create_with_fdo_iri(\"http://handle.net/21.T11966/82045bd97a0acce88378\", \"https://hdl.handle.net/21.T11966/996c38676da9ee56f8ab\", \"Example FDO\")\n",
    "\n",
    "print(fdo2)\n"
   ]
  },
  {
   "cell_type": "markdown",
   "id": "edd0f803-0943-4b3d-bb30-d4229221e513",
   "metadata": {
    "panel-layout": {
     "height": 50.796875,
     "visible": true,
     "width": 100
    }
   },
   "source": [
    "## Validate FDO nanopublication"
   ]
  },
  {
   "cell_type": "code",
   "execution_count": 6,
   "id": "93bb6b9a-7661-4214-b5dd-1883e4dbd978",
   "metadata": {
    "panel-layout": {
     "height": 0,
     "visible": true,
     "width": 100
    }
   },
   "outputs": [
    {
     "name": "stdout",
     "output_type": "stream",
     "text": [
      "Valid FDO\n",
      "JSON Schema entry not found in FDO profile.\n",
      "Invalid FDO\n"
     ]
    }
   ],
   "source": [
    "is_valid = validate_fdo_nanopub(npub)\n",
    "print(\"Valid FDO\" if is_valid else \"Invalid FDO\")\n",
    "\n",
    "is_valid_2 = validate_fdo_nanopub(fdo2)\n",
    "print(\"Valid FDO\" if is_valid_2 else \"Invalid FDO\")\n"
   ]
  },
  {
   "cell_type": "markdown",
   "id": "d35e2d31-dbcb-40b0-8c70-c6db699fecfd",
   "metadata": {
    "panel-layout": {
     "height": 50.796875,
     "visible": true,
     "width": 100
    }
   },
   "source": [
    "## Sign FDO Nanopublication"
   ]
  },
  {
   "cell_type": "code",
   "execution_count": 6,
   "id": "b054cf09-4547-42b9-8041-ee7e1256fcb2",
   "metadata": {},
   "outputs": [
    {
     "name": "stdout",
     "output_type": "stream",
     "text": [
      "Nanopub URI: \u001b[1mhttps://w3id.org/np/RAe1r9mVIZbSCBzF5HSC849KClf4yNxk9zzbYEunEJ5Do\u001b[0m\n",
      "@prefix np: <http://www.nanopub.org/nschema#> .\n",
      "@prefix npx: <http://purl.org/nanopub/x/> .\n",
      "@prefix ns1: <https://w3id.org/fdof/ontology#> .\n",
      "@prefix ns2: <https://hdl.handle.net/10320/> .\n",
      "@prefix ns3: <https://hdl.handle.net/0.TYPE/> .\n",
      "@prefix ns4: <https://hdl.handle.net/21.T11966/> .\n",
      "@prefix orcid: <https://orcid.org/> .\n",
      "@prefix prov: <http://www.w3.org/ns/prov#> .\n",
      "@prefix rdfs: <http://www.w3.org/2000/01/rdf-schema#> .\n",
      "@prefix sub: <https://w3id.org/np/RAe1r9mVIZbSCBzF5HSC849KClf4yNxk9zzbYEunEJ5Do/> .\n",
      "@prefix this: <https://w3id.org/np/RAe1r9mVIZbSCBzF5HSC849KClf4yNxk9zzbYEunEJ5Do> .\n",
      "@prefix xsd: <http://www.w3.org/2001/XMLSchema#> .\n",
      "\n",
      "sub:Head {\n",
      "    this: a np:Nanopublication ;\n",
      "        np:hasAssertion sub:assertion ;\n",
      "        np:hasProvenance sub:provenance ;\n",
      "        np:hasPublicationInfo sub:pubinfo .\n",
      "}\n",
      "\n",
      "sub:provenance {\n",
      "    sub:assertion prov:wasAttributedTo orcid:0009-0009-0118-9195 .\n",
      "}\n",
      "\n",
      "sub:assertion {\n",
      "    ns4:82045bd97a0acce88378 a ns1:FAIRDigitalObject ;\n",
      "        rdfs:label \"21.T11966/82045bd97a0acce88378\" ;\n",
      "        ns3:DOIPService \"21.T11966/service\" ;\n",
      "        ns2:loc \"\"\"<locations>\n",
      "<location href=\"http://typeregistry.testbed.pid.gwdg.de/objects/21.T11966/82045bd97a0acce88378\" weight=\"0\" view=\"json\" />\n",
      "<location href=\"http://typeregistry.testbed.pid.gwdg.de/#objects/21.T11966/82045bd97a0acce88378\" weight=\"1\" view=\"ui\" />\n",
      "</locations>\"\"\" ;\n",
      "        ns4:JsonSchema \"{\\\"$ref\\\": \\\"https://typeapi.lab.pidconsortium.net/v1/types/schema/21.T11966/82045bd97a0acce88378\\\"}\" ;\n",
      "        ns4:b5b58656b1fa5aff0505 \"21.T11966/service\" ;\n",
      "        ns1:hasFdoProfile ns4:996c38676da9ee56f8ab ;\n",
      "        ns1:hasMetadata this: .\n",
      "}\n",
      "\n",
      "sub:pubinfo {\n",
      "    sub:sig npx:hasAlgorithm \"RSA\" ;\n",
      "        npx:hasPublicKey \"MIIBIjANBgkqhkiG9w0BAQEFAAOCAQ8AMIIBCgKCAQEAw3QafWPHCDnuVY+aTaavfIP9Q6GWzlYL0kTzq7+t11EKQoG6IDcxt1naJ2aftVjMmEn+n1kruckVXGXaBZANNPUJj/Vk1RGF9UqdEb+HI2F8NKxE3/lnwFWDCI4mPOI0AL5MyTOsbkzARbLeW4eMYALYuYHyjkB41OjFqho3uHEUFlVuOgq/SKaTN2iW53hT47DxVs3hSCD5Y3ZPpZzwwSASy/lkAbqdmcOftansqwp6PTlbvyzHp9z6VLWxCNWajndrAMuvFo4a6XegKPTQy5yAd/Q61x9l1hlzuD/iCem/oF/+xFVVD7KH7ZbrSj9b/MVr7emN0w3GGMMiYIeKjQIDAQAB\" ;\n",
      "        npx:hasSignature \"Ygdt5MD9DI/O4iRXpRl5aVG48tqPApMBZOxPTJz/yBqUp51dWeOdx35XmJX793erjOgymmlHu6kKPYzEwanZ/gt2af003HZrrNKWX6D5th/XUuvxEr1itUn4IYWypGFu2qe7xCnTU0bHgfvlIh/6xiqjcD3wMZ8HPvxX2N3tD1TXw2ZV5+zn75tP7T/3w1JYUTomgpgEJqVtcVG7E+UlBUug9fMdvd8enecHpvuQqfIT/usXVBfFujW0teAARhematH2yN5RrlvgIZK9iEmlX83eMS4JaoCznAyXEpMMId/6FqMCnGix+gZ4Q8OFVqmqqDSizUIjU5TqzoyJ5eZvGQ==\" ;\n",
      "        npx:hasSignatureTarget this: ;\n",
      "        npx:signedBy orcid:0009-0009-0118-9195 .\n",
      "\n",
      "    this: a npx:ExampleNanopub ;\n",
      "        rdfs:label \"FAIR Digital Object: 21.T11966/82045bd97a0acce88378\" ;\n",
      "        npx:introduces ns4:82045bd97a0acce88378 ;\n",
      "        prov:generatedAtTime \"2025-06-05T09:44:01.586284\"^^xsd:dateTime ;\n",
      "        prov:wasAttributedTo orcid:0009-0009-0118-9195 .\n",
      "}\n",
      "\n",
      "\n"
     ]
    }
   ],
   "source": [
    "client = NanopubClient(use_test_server=True)\n",
    "\n",
    "npub.sign()\n",
    "\n",
    "print(npub)"
   ]
  },
  {
   "cell_type": "markdown",
   "id": "0eb7667d-1ebe-4607-aadb-8a11bb78bc3e",
   "metadata": {},
   "source": [
    "## Publish FDO Nanopublication"
   ]
  },
  {
   "cell_type": "code",
   "execution_count": 7,
   "id": "e8e20cca-9acd-4c1c-b06b-32cd191ab9d8",
   "metadata": {},
   "outputs": [],
   "source": [
    "npub.publish()"
   ]
  },
  {
   "cell_type": "markdown",
   "id": "f40b6551-ab19-405a-aa86-58ccb7e2fd0c",
   "metadata": {},
   "source": [
    "## Fetch and display published FDO Nanopublication"
   ]
  },
  {
   "cell_type": "code",
   "execution_count": 8,
   "id": "8ee9cb95-a183-4124-b28f-bd13861cf59d",
   "metadata": {},
   "outputs": [
    {
     "name": "stdout",
     "output_type": "stream",
     "text": [
      "Nanopub URI: \u001b[1mhttps://w3id.org/np/RAe1r9mVIZbSCBzF5HSC849KClf4yNxk9zzbYEunEJ5Do\u001b[0m\n",
      "@prefix np: <http://www.nanopub.org/nschema#> .\n",
      "@prefix npx: <http://purl.org/nanopub/x/> .\n",
      "@prefix ns1: <https://w3id.org/fdof/ontology#> .\n",
      "@prefix ns2: <https://hdl.handle.net/10320/> .\n",
      "@prefix ns3: <https://hdl.handle.net/0.TYPE/> .\n",
      "@prefix ns4: <https://hdl.handle.net/21.T11966/> .\n",
      "@prefix orcid: <https://orcid.org/> .\n",
      "@prefix prov: <http://www.w3.org/ns/prov#> .\n",
      "@prefix rdfs: <http://www.w3.org/2000/01/rdf-schema#> .\n",
      "@prefix sub: <https://w3id.org/np/RAe1r9mVIZbSCBzF5HSC849KClf4yNxk9zzbYEunEJ5Do/> .\n",
      "@prefix this: <https://w3id.org/np/RAe1r9mVIZbSCBzF5HSC849KClf4yNxk9zzbYEunEJ5Do> .\n",
      "@prefix xsd: <http://www.w3.org/2001/XMLSchema#> .\n",
      "\n",
      "sub:Head {\n",
      "    this: a np:Nanopublication ;\n",
      "        np:hasAssertion sub:assertion ;\n",
      "        np:hasProvenance sub:provenance ;\n",
      "        np:hasPublicationInfo sub:pubinfo .\n",
      "}\n",
      "\n",
      "sub:pubinfo {\n",
      "    sub:sig npx:hasAlgorithm \"RSA\" ;\n",
      "        npx:hasPublicKey \"MIIBIjANBgkqhkiG9w0BAQEFAAOCAQ8AMIIBCgKCAQEAw3QafWPHCDnuVY+aTaavfIP9Q6GWzlYL0kTzq7+t11EKQoG6IDcxt1naJ2aftVjMmEn+n1kruckVXGXaBZANNPUJj/Vk1RGF9UqdEb+HI2F8NKxE3/lnwFWDCI4mPOI0AL5MyTOsbkzARbLeW4eMYALYuYHyjkB41OjFqho3uHEUFlVuOgq/SKaTN2iW53hT47DxVs3hSCD5Y3ZPpZzwwSASy/lkAbqdmcOftansqwp6PTlbvyzHp9z6VLWxCNWajndrAMuvFo4a6XegKPTQy5yAd/Q61x9l1hlzuD/iCem/oF/+xFVVD7KH7ZbrSj9b/MVr7emN0w3GGMMiYIeKjQIDAQAB\" ;\n",
      "        npx:hasSignature \"Ygdt5MD9DI/O4iRXpRl5aVG48tqPApMBZOxPTJz/yBqUp51dWeOdx35XmJX793erjOgymmlHu6kKPYzEwanZ/gt2af003HZrrNKWX6D5th/XUuvxEr1itUn4IYWypGFu2qe7xCnTU0bHgfvlIh/6xiqjcD3wMZ8HPvxX2N3tD1TXw2ZV5+zn75tP7T/3w1JYUTomgpgEJqVtcVG7E+UlBUug9fMdvd8enecHpvuQqfIT/usXVBfFujW0teAARhematH2yN5RrlvgIZK9iEmlX83eMS4JaoCznAyXEpMMId/6FqMCnGix+gZ4Q8OFVqmqqDSizUIjU5TqzoyJ5eZvGQ==\" ;\n",
      "        npx:hasSignatureTarget this: ;\n",
      "        npx:signedBy orcid:0009-0009-0118-9195 .\n",
      "\n",
      "    this: a npx:ExampleNanopub ;\n",
      "        rdfs:label \"FAIR Digital Object: 21.T11966/82045bd97a0acce88378\" ;\n",
      "        npx:introduces ns4:82045bd97a0acce88378 ;\n",
      "        prov:generatedAtTime \"2025-06-05T09:44:01.586284\"^^xsd:dateTime ;\n",
      "        prov:wasAttributedTo orcid:0009-0009-0118-9195 .\n",
      "}\n",
      "\n",
      "sub:provenance {\n",
      "    sub:assertion prov:wasAttributedTo orcid:0009-0009-0118-9195 .\n",
      "}\n",
      "\n",
      "sub:assertion {\n",
      "    ns4:82045bd97a0acce88378 a ns1:FAIRDigitalObject ;\n",
      "        rdfs:label \"21.T11966/82045bd97a0acce88378\" ;\n",
      "        ns3:DOIPService \"21.T11966/service\" ;\n",
      "        ns2:loc \"\"\"<locations>\n",
      "<location href=\"http://typeregistry.testbed.pid.gwdg.de/objects/21.T11966/82045bd97a0acce88378\" weight=\"0\" view=\"json\" />\n",
      "<location href=\"http://typeregistry.testbed.pid.gwdg.de/#objects/21.T11966/82045bd97a0acce88378\" weight=\"1\" view=\"ui\" />\n",
      "</locations>\"\"\" ;\n",
      "        ns4:JsonSchema \"{\\\"$ref\\\": \\\"https://typeapi.lab.pidconsortium.net/v1/types/schema/21.T11966/82045bd97a0acce88378\\\"}\" ;\n",
      "        ns4:b5b58656b1fa5aff0505 \"21.T11966/service\" ;\n",
      "        ns1:hasFdoProfile ns4:996c38676da9ee56f8ab ;\n",
      "        ns1:hasMetadata this: .\n",
      "}\n",
      "\n",
      "\n"
     ]
    }
   ],
   "source": [
    "fetchConf = NanopubConf(\n",
    "    use_test_server=True\n",
    ")\n",
    "fetchNp = Nanopub(npub.source_uri, conf=fetchConf)\n",
    "\n",
    "print(fetchNp)"
   ]
  },
  {
   "cell_type": "markdown",
   "id": "5b53f698-a1af-4ce7-abc8-c9a72f410029",
   "metadata": {},
   "source": [
    "## Update metadata and re-publish"
   ]
  },
  {
   "cell_type": "markdown",
   "id": "12d879f8-cfc8-4619-bed9-b73949580858",
   "metadata": {
    "panel-layout": {
     "height": 50.796875,
     "visible": true,
     "width": 100
    }
   },
   "source": [
    "### Retrieve metadata"
   ]
  },
  {
   "cell_type": "code",
   "execution_count": 9,
   "id": "0ac4fca5-db57-479b-9c79-730c18d47bfd",
   "metadata": {},
   "outputs": [
    {
     "name": "stdout",
     "output_type": "stream",
     "text": [
      "@prefix ns1: <https://hdl.handle.net/10320/> .\n",
      "@prefix ns2: <https://w3id.org/fdof/ontology#> .\n",
      "@prefix ns3: <https://hdl.handle.net/21.T11966/> .\n",
      "@prefix ns4: <https://hdl.handle.net/0.TYPE/> .\n",
      "@prefix rdfs: <http://www.w3.org/2000/01/rdf-schema#> .\n",
      "\n",
      "<https://hdl.handle.net/82045bd97a0acce88378> a ns2:FAIRDigitalObject ;\n",
      "    rdfs:label \"21.T11966/82045bd97a0acce88378\" ;\n",
      "    ns4:DOIPService \"21.T11966/service\" ;\n",
      "    ns1:loc \"\"\"<locations>\n",
      "<location href=\"http://typeregistry.testbed.pid.gwdg.de/objects/21.T11966/82045bd97a0acce88378\" weight=\"0\" view=\"json\" />\n",
      "<location href=\"http://typeregistry.testbed.pid.gwdg.de/#objects/21.T11966/82045bd97a0acce88378\" weight=\"1\" view=\"ui\" />\n",
      "</locations>\"\"\" ;\n",
      "    ns3:JsonSchema \"{\\\"$ref\\\": \\\"https://typeapi.lab.pidconsortium.net/v1/types/schema/21.T11966/82045bd97a0acce88378\\\"}\" ;\n",
      "    ns3:b5b58656b1fa5aff0505 \"21.T11966/service\" ;\n",
      "    ns2:hasFdoProfile ns3:996c38676da9ee56f8ab ;\n",
      "    ns2:hasMetadata <http://purl.org/nanopub/temp/np/> .\n",
      "\n",
      "\n"
     ]
    }
   ],
   "source": [
    "md = retrieve_metadata_from_id(handle)\n",
    "g = md.get_graph()\n",
    "print(g.serialize(format=\"turtle\"))\n"
   ]
  },
  {
   "cell_type": "markdown",
   "id": "532a0388-a4f8-4972-ae49-3086de198529",
   "metadata": {},
   "source": [
    "### Update metadata"
   ]
  },
  {
   "cell_type": "code",
   "execution_count": 10,
   "id": "fcf21489-6dd4-40c5-83f9-8a4ff0fbedad",
   "metadata": {},
   "outputs": [
    {
     "name": "stdout",
     "output_type": "stream",
     "text": [
      "Nanopub URI: \u001b[1mhttps://w3id.org/np/RAe1r9mVIZbSCBzF5HSC849KClf4yNxk9zzbYEunEJ5Do\u001b[0m\n",
      "@prefix np: <http://www.nanopub.org/nschema#> .\n",
      "@prefix npx: <http://purl.org/nanopub/x/> .\n",
      "@prefix ns1: <https://w3id.org/fdof/ontology#> .\n",
      "@prefix ns2: <https://hdl.handle.net/10320/> .\n",
      "@prefix ns3: <https://hdl.handle.net/0.TYPE/> .\n",
      "@prefix ns4: <https://hdl.handle.net/21.T11966/> .\n",
      "@prefix orcid: <https://orcid.org/> .\n",
      "@prefix prov: <http://www.w3.org/ns/prov#> .\n",
      "@prefix rdfs: <http://www.w3.org/2000/01/rdf-schema#> .\n",
      "@prefix sub: <https://w3id.org/np/RAe1r9mVIZbSCBzF5HSC849KClf4yNxk9zzbYEunEJ5Do/> .\n",
      "@prefix this: <https://w3id.org/np/RAe1r9mVIZbSCBzF5HSC849KClf4yNxk9zzbYEunEJ5Do> .\n",
      "@prefix xsd: <http://www.w3.org/2001/XMLSchema#> .\n",
      "\n",
      "sub:Head {\n",
      "    this: a np:Nanopublication ;\n",
      "        np:hasAssertion sub:assertion ;\n",
      "        np:hasProvenance sub:provenance ;\n",
      "        np:hasPublicationInfo sub:pubinfo .\n",
      "}\n",
      "\n",
      "sub:pubinfo {\n",
      "    sub:sig npx:hasAlgorithm \"RSA\" ;\n",
      "        npx:hasPublicKey \"MIIBIjANBgkqhkiG9w0BAQEFAAOCAQ8AMIIBCgKCAQEAw3QafWPHCDnuVY+aTaavfIP9Q6GWzlYL0kTzq7+t11EKQoG6IDcxt1naJ2aftVjMmEn+n1kruckVXGXaBZANNPUJj/Vk1RGF9UqdEb+HI2F8NKxE3/lnwFWDCI4mPOI0AL5MyTOsbkzARbLeW4eMYALYuYHyjkB41OjFqho3uHEUFlVuOgq/SKaTN2iW53hT47DxVs3hSCD5Y3ZPpZzwwSASy/lkAbqdmcOftansqwp6PTlbvyzHp9z6VLWxCNWajndrAMuvFo4a6XegKPTQy5yAd/Q61x9l1hlzuD/iCem/oF/+xFVVD7KH7ZbrSj9b/MVr7emN0w3GGMMiYIeKjQIDAQAB\" ;\n",
      "        npx:hasSignature \"Ygdt5MD9DI/O4iRXpRl5aVG48tqPApMBZOxPTJz/yBqUp51dWeOdx35XmJX793erjOgymmlHu6kKPYzEwanZ/gt2af003HZrrNKWX6D5th/XUuvxEr1itUn4IYWypGFu2qe7xCnTU0bHgfvlIh/6xiqjcD3wMZ8HPvxX2N3tD1TXw2ZV5+zn75tP7T/3w1JYUTomgpgEJqVtcVG7E+UlBUug9fMdvd8enecHpvuQqfIT/usXVBfFujW0teAARhematH2yN5RrlvgIZK9iEmlX83eMS4JaoCznAyXEpMMId/6FqMCnGix+gZ4Q8OFVqmqqDSizUIjU5TqzoyJ5eZvGQ==\" ;\n",
      "        npx:hasSignatureTarget this: ;\n",
      "        npx:signedBy orcid:0009-0009-0118-9195 .\n",
      "\n",
      "    this: a npx:ExampleNanopub ;\n",
      "        rdfs:label \"FAIR Digital Object: 21.T11966/82045bd97a0acce88378\" ;\n",
      "        npx:introduces ns4:82045bd97a0acce88378 ;\n",
      "        prov:generatedAtTime \"2025-06-05T09:44:01.586284\"^^xsd:dateTime ;\n",
      "        prov:wasAttributedTo orcid:0009-0009-0118-9195 .\n",
      "}\n",
      "\n",
      "sub:provenance {\n",
      "    sub:assertion prov:wasAttributedTo orcid:0009-0009-0118-9195 .\n",
      "}\n",
      "\n",
      "sub:assertion {\n",
      "    ns4:82045bd97a0acce88378 a ns1:FAIRDigitalObject ;\n",
      "        rdfs:label \"21.T11966/82045bd97a0acce88378\" ;\n",
      "        ns3:DOIPService \"21.T11966/service\" ;\n",
      "        ns2:loc \"\"\"<locations>\n",
      "<location href=\"http://typeregistry.testbed.pid.gwdg.de/objects/21.T11966/82045bd97a0acce88378\" weight=\"0\" view=\"json\" />\n",
      "<location href=\"http://typeregistry.testbed.pid.gwdg.de/#objects/21.T11966/82045bd97a0acce88378\" weight=\"1\" view=\"ui\" />\n",
      "</locations>\"\"\" ;\n",
      "        ns4:JsonSchema \"{\\\"$ref\\\": \\\"https://typeapi.lab.pidconsortium.net/v1/types/schema/21.T11966/82045bd97a0acce88378\\\"}\" ;\n",
      "        ns4:b5b58656b1fa5aff0505 \"21.T11966/service\" ;\n",
      "        ns1:hasFdoProfile ns4:996c38676da9ee56f8ab ;\n",
      "        ns1:hasMetadata this: .\n",
      "}\n",
      "\n",
      "\n"
     ]
    }
   ],
   "source": [
    "md.set_label(\"A new digital object\")\n",
    "md.set_profile(\"https://hdl.handle.net/21.T11966/custom-profile\")\n",
    "md.set_property(\"https://w3id.org/fdof/ontology#customPredicate\", \"Custom value\")\n",
    "md.set_property(\"https://w3id.org/fdof/ontology#anotherPredicate\", URIRef(\"https://example.org/some-uri\"))\n",
    "\n",
    "## update_metadata re-publishes the Fdo Nanopublication\n",
    "## We use the published nanopub we fetched in the step above\n",
    "update_metadata(fetchNp, md)\n",
    "\n",
    "## We fetch the updated nanopub\n",
    "updatedNp = Nanopub(fetchNp.source_uri, conf=fetchConf)\n",
    "\n",
    "print(updatedNp)"
   ]
  }
 ],
 "metadata": {
  "kernelspec": {
   "display_name": "Python 3 (ipykernel)",
   "language": "python",
   "name": "python3"
  },
  "language_info": {
   "codemirror_mode": {
    "name": "ipython",
    "version": 3
   },
   "file_extension": ".py",
   "mimetype": "text/x-python",
   "name": "python",
   "nbconvert_exporter": "python",
   "pygments_lexer": "ipython3",
   "version": "3.11.11"
  },
  "panel-cell-order": [
   "22f0d912-5233-4a2b-b12e-b6ed09cd9078",
   "b9b5555b-b43c-4d9f-8d36-33e34c4868d8",
   "a0d92b45-db69-47c7-8923-560dbe355d51",
   "677776eb-b962-452e-881f-970d5f991ba1",
   "4f28a8a3-9ef9-4e9d-8d8e-c6debe40a6a1",
   "edd0f803-0943-4b3d-bb30-d4229221e513",
   "93bb6b9a-7661-4214-b5dd-1883e4dbd978",
   "12d879f8-cfc8-4619-bed9-b73949580858",
   "d35e2d31-dbcb-40b0-8c70-c6db699fecfd"
  ]
 },
 "nbformat": 4,
 "nbformat_minor": 5
}
