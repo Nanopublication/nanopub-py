{
 "cells": [
  {
   "cell_type": "markdown",
   "id": "d552cc79-980f-4359-94db-e0f7d4f417ed",
   "metadata": {},
   "source": [
    "# Querying FDOs\n",
    "\n",
    "This notebooks provides examples on the Querying operations that can be performed on FDOs. "
   ]
  },
  {
   "cell_type": "code",
   "execution_count": 5,
   "id": "7f84a835-8e67-4d98-817a-63a7de3d9952",
   "metadata": {},
   "outputs": [],
   "source": [
    "from nanopub.client import NanopubClient\n",
    "from nanopub.fdo.fdo_query import FdoQuery\n",
    "\n",
    "client = NanopubClient()\n",
    "fdo = FdoQuery(client)\n"
   ]
  },
  {
   "cell_type": "markdown",
   "id": "459433c4-9f5e-4dce-988d-d888d7023085",
   "metadata": {},
   "source": [
    "## Op.QueryTemplate\n",
    "This operation instantiates the given query template with the provided parameters (if any), and returns the result as a table."
   ]
  },
  {
   "cell_type": "code",
   "execution_count": 6,
   "id": "9bfd30bd-8c0a-4e64-ada9-f94b413e3aeb",
   "metadata": {},
   "outputs": [
    {
     "name": "stdout",
     "output_type": "stream",
     "text": [
      "{'fdo': 'https://w3id.org/np/RAwToTy-lTyJDU9SkYryUp9yjrQx-rokX_M4sz85MQpmA#abc-table', 'np': 'https://w3id.org/np/RAwToTy-lTyJDU9SkYryUp9yjrQx-rokX_M4sz85MQpmA', 'label': 'FAIR Digital Object: ABC demo table', 'date': '2024-09-18T11:19:06.183Z'}\n"
     ]
    }
   ],
   "source": [
    "results = client.execute_query_template(\n",
    "    \"RAkYh4UPJryajbtIDbLG-Bfd6A4JD2SbU9bmZdvaEdFRY/fdo-text-search\",\n",
    "    {\"query\": \"demo\"}\n",
    ")\n",
    "\n",
    "for row in results:\n",
    "    print(row)"
   ]
  },
  {
   "cell_type": "markdown",
   "id": "54f652b3-a20f-4cca-adff-69a191f44571",
   "metadata": {},
   "source": [
    "## Op.QueryFreeText, Op.QueryRef, Op.QueryFeed, Op.QueryFavorites\n",
    "\n",
    "### Op.QueryFreeText\n",
    "This is a specific query to search by free text. It takes a free text search string as input and executes a query to search all FDOs whose records contain that text.\n",
    "\n",
    "### Op.QueryRef\n",
    "This is a specific query to search for all FDO records by PID or URI they contain. It takes the PID/URI as its only input, and returns a list of all found FDO records.\n",
    "\n",
    "### Op.QueryFeed\n",
    "This is a specific query to search for all FDOs published by a given person, group, or tool, ordered by date with the newest first. It takes an agent ID as its input, and returns references to all FDO from that agent ordered by recency.\n",
    "\n",
    "### Op.QueryFavorites\n",
    "This is a specific query to search for all FDOs or other resources that have been marked as a \"favorite resource\" by a given user. It takes an user ID as its input, and returns references to all favorited resources.\n",
    "\n"
   ]
  },
  {
   "cell_type": "code",
   "execution_count": 7,
   "id": "64bcec88-a0f7-4dba-a1cf-62bf0a69721f",
   "metadata": {},
   "outputs": [
    {
     "name": "stdout",
     "output_type": "stream",
     "text": [
      "Text search\n",
      "{'np': 'https://w3id.org/np/RAonjPHpPiLNUAwAx8P7NqfAGIJs4Z45L9Cy-cpBgvizU', 'description': '', 'label': 'FAIR Digital Object: TEST FDO', 'date': '2024-09-23T14:31:35.155Z'}\n",
      "{'np': 'https://w3id.org/np/RA1KlMiWjiJtQiU2R6twcLtvZv93KOqJGoXuk-HjkgiNE', 'description': '', 'label': 'Test FDO: README of Nanodash', 'date': '2025-05-23T06:36:46.826Z'}\n",
      "Find by ref\n",
      "{'np': 'https://w3id.org/np/RAojp3TaDSNdSvOMUtf8yzYCdTmIGVbq8XIBdy9RvcvhY', 'description': '', 'label': 'NumberFdo1', 'date': '2025-07-02T13:30:37.127Z'}\n",
      "{'np': 'https://w3id.org/np/RAenyMLegDr7xFKb7noNCtPapXjddxzAUT2EolvuowaB0', 'description': '', 'label': 'NumberFdo1', 'date': '2025-07-01T14:33:45.927Z'}\n",
      "{'np': 'https://w3id.org/np/RAf0q5lcL7phGKVlhAmI_5xuNCl0d-Sn5juEDB6idq2io', 'description': '', 'label': 'NumberFdo1', 'date': '2025-05-21T14:39:46.720Z'}\n",
      "{'np': 'https://w3id.org/np/RAKvxLx9NBSNcowsy9lGrgSpOf0jMPT-eI6CbAngTI5xM', 'description': '', 'label': 'FAIR Digital Object: NumberFdo1', 'date': '2025-04-16T10:03:11.512Z'}\n",
      "{'np': 'https://w3id.org/np/RAqEEjsgGnccj0T6GQUZIsh0edL7SmSN4ZZc7NPplhzkg', 'description': '', 'label': 'FAIR Digital Object: NumberFdo1', 'date': '2025-04-16T09:58:16.434Z'}\n",
      "{'np': 'https://w3id.org/np/RAVg30AdFsE7Ebvf-4x1TthvQ8j9LeKpMkhuvBffXRw1U', 'description': '', 'label': 'FAIR Digital Object: NumberFdo1', 'date': '2025-04-11T10:30:57.732Z'}\n",
      "Get favorite things\n",
      "{'np': 'https://w3id.org/np/RAu8EiNwEHZ5QnRcyINy5Hk80UsG-_R3EIx-YlBLmWMGI', 'description': '', 'label': 'Favorite: shacl', 'date': '2025-07-02T11:49:57.763Z'}\n",
      "{'np': 'https://w3id.org/np/RA-Z2kV_KhGVpy7QEyloZYpx8hLuLv1FRU0nQc260Uap0', 'description': '', 'label': 'Favorite: nanodash-readme', 'date': '2025-07-02T08:32:30.879Z'}\n",
      "Get feed\n",
      "{'np': 'https://w3id.org/np/RAlGnp-0-R_8Qq3aTFklUoqGSxQnwtMQUPdL90bJA37jg', 'description': '', 'label': 'ExampleFdoToUpdate', 'date': '2025-07-09T13:53:16.316Z'}\n",
      "{'np': 'https://w3id.org/np/RA-WnlFusR4S9ZRVJl8UeGTIME10P-Wgwy6TuxNjKWSNo', 'description': '', 'label': 'ComplexNanopub003', 'date': '2025-07-04T12:19:48.977Z'}\n",
      "{'np': 'https://w3id.org/np/RAzHKabFFzFvWQ5ikRfsiyIG_MjLpS048KsQu3lFwnmYw', 'description': '', 'label': 'ExampleDerivedFdo001', 'date': '2025-07-02T14:11:47.714Z'}\n",
      "{'np': 'https://w3id.org/np/RAojp3TaDSNdSvOMUtf8yzYCdTmIGVbq8XIBdy9RvcvhY', 'description': '', 'label': 'NumberFdo1', 'date': '2025-07-02T13:30:37.127Z'}\n",
      "{'np': 'https://w3id.org/np/RAJddJlLy8UXa5nSkeYl3Pb52wFiea14yJkV1HjsxQtrI', 'description': '', 'label': 'ComplexNanopub002', 'date': '2025-07-02T13:18:28.982Z'}\n",
      "{'np': 'https://w3id.org/np/RABJdpwiAqEbN0GYGdc-a2YM303SSSptmNXpW_LtGgrlA', 'description': '', 'label': 'ComplexNanopub001', 'date': '2025-07-02T12:49:43.665Z'}\n",
      "{'np': 'https://w3id.org/np/RADTajQ3RJ8RNklhV8_W7B0pcJswCmm25zJPp7M-K0BRg', 'description': '', 'label': 'ExampleFdo003', 'date': '2025-07-02T12:44:13.819Z'}\n",
      "{'np': 'https://w3id.org/np/RAwCj8sM9FkB8Wyz3-i0Fh9Dcq1NniH1sErJBVEkoRQ-o', 'description': '', 'label': 'ExampleFdo002', 'date': '2025-07-02T12:43:48.361Z'}\n",
      "{'np': 'https://w3id.org/np/RAbb0pvoFGiNwcY8nL-qSR93O4AAcfsQRS_TNvLqt0VHg', 'description': '', 'label': 'ExampleFdo001', 'date': '2025-07-02T12:43:20.332Z'}\n",
      "{'np': 'https://w3id.org/np/RAeRJpNfgDpOPDqbX6KLwbZAcZa97_l5XhYP6csw2Y-TI', 'description': '', 'label': 'ExampleFdo003', 'date': '2025-07-02T11:57:58.494Z'}\n",
      "{'np': 'https://w3id.org/np/RAoDVTRN7hU3v_0ls32oZ9ae_ZTX6g4RLdAapQp5el8Gg', 'description': '', 'label': 'ExampleFdo002', 'date': '2025-07-02T11:57:32.920Z'}\n",
      "{'np': 'https://w3id.org/np/RAs-Jwa5GuWXNImdAR1m9La4R-UP-YdwPERFBQhPcmJx4', 'description': '', 'label': 'ExampleFdo001', 'date': '2025-07-02T11:57:06.178Z'}\n",
      "{'np': 'https://w3id.org/np/RAenyMLegDr7xFKb7noNCtPapXjddxzAUT2EolvuowaB0', 'description': '', 'label': 'NumberFdo1', 'date': '2025-07-01T14:33:45.927Z'}\n",
      "{'np': 'https://w3id.org/np/RA2A-0ojBbTr2aeXUe2Bq4Fn8VLl5Ddr82fOuegiILGkA', 'description': '', 'date': '2025-06-27T14:41:14.692Z'}\n",
      "{'np': 'https://w3id.org/np/RAGVrUZm6j9Yf-K-aJ3Sj-teUbfDsbiRluBrQh_7fxSgw', 'description': '', 'date': '2025-06-27T14:38:20.870Z'}\n",
      "{'np': 'https://w3id.org/np/RA9C0VyZzJ4FF3gV_MzG33WW1cBASboW6XT6yFt-_Bv4I', 'description': '', 'date': '2025-06-27T14:32:19.191Z'}\n",
      "{'np': 'https://w3id.org/np/RAvqlX6ptMQa94iIj-c6Sair7SEOUQ9spnR2EPR7lfTD4', 'description': '', 'date': '2025-06-27T14:24:15.434Z'}\n",
      "{'np': 'https://w3id.org/np/RAzAdPWB-kETxyr8CPxC8ecxCVazdZqCLIE_APuRl60BU', 'description': '', 'date': '2025-06-27T12:54:22.264Z'}\n",
      "{'np': 'https://w3id.org/np/RALXY1HVoQ2ah59Xns_eIhj1e8ojMuFKMkG1FXNlAfWBo', 'description': '', 'label': 'NumberFdo1', 'date': '2025-05-26T13:50:30.973Z'}\n",
      "{'np': 'https://w3id.org/np/RAbjdfRufaF18bX13-oREknWuSJIZxy5acJbzROISYXQk', 'description': '', 'label': 'NumberFdo1', 'date': '2025-05-26T13:11:16.855Z'}\n",
      "{'np': 'https://w3id.org/np/RAf0q5lcL7phGKVlhAmI_5xuNCl0d-Sn5juEDB6idq2io', 'description': '', 'label': 'NumberFdo1', 'date': '2025-05-21T14:39:46.720Z'}\n"
     ]
    }
   ],
   "source": [
    "print(\"Text search\")\n",
    "for result in fdo.text_search(\"test\"):\n",
    "    print(result)\n",
    "\n",
    "print(\"Find by ref\")\n",
    "for result in fdo.find_by_ref(\"21.T11966/82045bd97a0acce88378\"):\n",
    "    print(result)\n",
    "    \n",
    "print(\"Get favorite things\")\n",
    "for result in fdo.get_favorite_things(\"https://orcid.org/0000-0002-1267-0234\"):\n",
    "    print(result)\n",
    "\n",
    "print(\"Get feed\")\n",
    "for result in fdo.get_feed(\"https://orcid.org/0009-0008-3635-347X\"):\n",
    "    print(result)"
   ]
  },
  {
   "cell_type": "markdown",
   "id": "55f3b965-3740-4fde-8fa9-42fb830aa2b5",
   "metadata": {},
   "source": [
    "### Op.QuerySparql\n",
    "\n",
    "This operation is about a generic query, taking a the SPARQL 1.1 query string as given and executes it on the RDF representation of the FDO records, as they are represented in nanopublications. Only nanopublications that are FDO records are considered, i.e. results from other types of nanopublications are not part of the query results of this operation. The result has a tabular form and can be requested in CSV or JSON format.\n",
    "\n"
   ]
  },
  {
   "cell_type": "code",
   "execution_count": 8,
   "id": "4ff19ee8-90cc-4b32-b703-44936571b35d",
   "metadata": {},
   "outputs": [
    {
     "name": "stdout",
     "output_type": "stream",
     "text": [
      "{'thing': 'https://w3id.org/np/RA8DQemv3WwH2K_YON_fnyyVvWVnxaTFFU4YAFW6gFyc4#setting', 'label': 'first nanopublication setting'}\n",
      "{'thing': 'https://w3id.org/np/RApvJxJO7tJFbhu0sqfO09XVOxxH9_-IO5EzztJqHMitk#setting', 'label': 'first nanopublication setting'}\n"
     ]
    }
   ],
   "source": [
    "query = \"\"\"\n",
    "PREFIX rdfs: <http://www.w3.org/2000/01/rdf-schema#>\n",
    "SELECT DISTINCT ?thing ?label WHERE {\n",
    "  ?thing rdfs:label ?label\n",
    "} LIMIT 2\n",
    "\"\"\"\n",
    "\n",
    "results = client.query_sparql(query)\n",
    "for row in results:\n",
    "    print(row)"
   ]
  }
 ],
 "metadata": {
  "kernelspec": {
   "display_name": "Python (nanopub-venv)",
   "language": "python",
   "name": "nanopub-venv"
  },
  "language_info": {
   "codemirror_mode": {
    "name": "ipython",
    "version": 3
   },
   "file_extension": ".py",
   "mimetype": "text/x-python",
   "name": "python",
   "nbconvert_exporter": "python",
   "pygments_lexer": "ipython3",
   "version": "3.11.11"
  }
 },
 "nbformat": 4,
 "nbformat_minor": 5
}
