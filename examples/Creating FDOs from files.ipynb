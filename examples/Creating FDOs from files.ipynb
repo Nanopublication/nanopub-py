{
 "cells": [
  {
   "cell_type": "markdown",
   "id": "90fee83c-934d-42b5-b860-a1c3d27ea072",
   "metadata": {},
   "source": [
    "# Create FDO from file\n",
    "\n",
    "Experimental notebook to test initializing FDONanopubs (and their profiles for validation) from files. Work in progress."
   ]
  },
  {
   "cell_type": "code",
   "execution_count": null,
   "id": "de0bf33c-1f51-403f-9586-f2858801b3f6",
   "metadata": {},
   "outputs": [],
   "source": [
    "from rdflib import Graph, RDFS\n",
    "from nanopub import NanopubClient, Nanopub, NanopubConf, load_profile\n",
    "from nanopub.fdo import (\n",
    "    FdoNanopub,\n",
    "    FdoRecord,\n",
    "    update_record,\n",
    "    retrieve_record_from_id,\n",
    "    retrieve_content_from_id,\n",
    "    validate_fdo_record,\n",
    "    resolve_id\n",
    ")\n",
    "\n",
    "# Load the turtle into an RDF graph\n",
    "assertion_graph = Graph()\n",
    "assertion_graph.parse(\"example.ttl\", format=\"turtle\")\n",
    "\n",
    "subjects = list(assertion_graph.subjects())\n",
    "\n",
    "np_conf = NanopubConf(\n",
    "    use_test_server=True,\n",
    "    profile=load_profile(), \n",
    "    add_prov_generated_time=True,\n",
    "    attribute_publication_to_profile=True,\n",
    ")\n",
    "\n",
    "label = assertion_graph.value(subjects[0], RDFS.label)\n",
    "\n",
    "\n",
    "fdo = FdoRecord(assertion=assertion_graph)\n",
    "\n",
    "print('------- FdoRecord ----------')\n",
    "print(fdo)\n",
    "print()\n",
    "print('------- FdoRecord Graph ----------')\n",
    "print(fdo.get_graph().serialize(format=\"turtle\"))\n",
    "\n",
    "# Optional: load profile locally into Nanopub so it can be used for validation before publishing \n",
    "profile_graph = Graph()\n",
    "profile_graph.parse(\"TrivialProfile.ttl\", format=\"turtle\")\n",
    "\n",
    "profile_subjects = list(profile_graph.subjects())\n",
    "profile_id=profile_subjects[0]\n",
    "profile_label = profile_graph.value(subjects[0], RDFS.label)\n",
    "\n",
    "profile = FdoNanopub(fdo_id=profile_id, assertion=profile_graph, label=profile_label)\n",
    "\n",
    "print('------- FdoProfile ----------')\n",
    "print(profile)\n",
    "\n",
    "validate_fdo_record(fdo, profile)\n",
    "\n"
   ]
  }
 ],
 "metadata": {
  "kernelspec": {
   "display_name": "Python (nanopub-venv)",
   "language": "python",
   "name": "nanopub-venv"
  },
  "language_info": {
   "codemirror_mode": {
    "name": "ipython",
    "version": 3
   },
   "file_extension": ".py",
   "mimetype": "text/x-python",
   "name": "python",
   "nbconvert_exporter": "python",
   "pygments_lexer": "ipython3",
   "version": "3.12.3"
  }
 },
 "nbformat": 4,
 "nbformat_minor": 5
}
