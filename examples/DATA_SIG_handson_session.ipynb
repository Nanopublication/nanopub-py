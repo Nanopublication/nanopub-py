{
 "cells": [
  {
   "cell_type": "markdown",
   "id": "cardiac-machine",
   "metadata": {},
   "source": [
    "# Create the Nanopub client\n",
    "Simply enough: client = NanopubClient()"
   ]
  },
  {
   "cell_type": "code",
   "execution_count": null,
   "id": "caroline-bench",
   "metadata": {},
   "outputs": [],
   "source": []
  },
  {
   "cell_type": "code",
   "execution_count": null,
   "id": "ruled-scoop",
   "metadata": {},
   "outputs": [],
   "source": []
  },
  {
   "cell_type": "code",
   "execution_count": null,
   "id": "protective-dairy",
   "metadata": {},
   "outputs": [],
   "source": []
  },
  {
   "cell_type": "markdown",
   "id": "virgin-nickel",
   "metadata": {},
   "source": [
    "# Searching the nanopub servers\n",
    "Can try e.g.:\n",
    "- client.find_nanopubs_with_text('fair')\n",
    "- client.find_nanopubs_with_pattern(\n",
    "pred='http://www.w3.org/1999/02/22-rdf-syntax-ns#type',              obj='http://www.w3.org/1999/02/22-rdf-syntax-ns#Statement')\n",
    "- client.find_things('http://purl.org/net/p-plan#Step')"
   ]
  },
  {
   "cell_type": "code",
   "execution_count": null,
   "id": "wooden-stanford",
   "metadata": {},
   "outputs": [],
   "source": []
  },
  {
   "cell_type": "code",
   "execution_count": null,
   "id": "furnished-clearing",
   "metadata": {},
   "outputs": [],
   "source": []
  },
  {
   "cell_type": "code",
   "execution_count": null,
   "id": "nervous-excess",
   "metadata": {},
   "outputs": [],
   "source": []
  },
  {
   "cell_type": "markdown",
   "id": "backed-spelling",
   "metadata": {},
   "source": [
    "# Fetch nanopubs as Publication objects\n",
    "- Use the client.fetch() method"
   ]
  },
  {
   "cell_type": "code",
   "execution_count": null,
   "id": "exotic-success",
   "metadata": {},
   "outputs": [],
   "source": []
  },
  {
   "cell_type": "code",
   "execution_count": null,
   "id": "bottom-country",
   "metadata": {},
   "outputs": [],
   "source": []
  },
  {
   "cell_type": "code",
   "execution_count": null,
   "id": "governing-blackberry",
   "metadata": {},
   "outputs": [],
   "source": []
  },
  {
   "cell_type": "markdown",
   "id": "electrical-update",
   "metadata": {},
   "source": [
    "# Set up your nanopub profile\n",
    "- Needed for publishing\n",
    "- Use the setup_nanopub_profile commandline tool created by Djura"
   ]
  },
  {
   "cell_type": "code",
   "execution_count": null,
   "id": "prostate-peace",
   "metadata": {},
   "outputs": [],
   "source": []
  },
  {
   "cell_type": "code",
   "execution_count": null,
   "id": "ultimate-aircraft",
   "metadata": {},
   "outputs": [],
   "source": []
  },
  {
   "cell_type": "code",
   "execution_count": null,
   "id": "english-extreme",
   "metadata": {},
   "outputs": [],
   "source": []
  },
  {
   "cell_type": "markdown",
   "id": "challenging-equilibrium",
   "metadata": {},
   "source": [
    "# Publish a simple claim\n",
    "- Use client.claim()"
   ]
  },
  {
   "cell_type": "code",
   "execution_count": null,
   "id": "interesting-converter",
   "metadata": {},
   "outputs": [],
   "source": []
  },
  {
   "cell_type": "code",
   "execution_count": null,
   "id": "purple-seafood",
   "metadata": {},
   "outputs": [],
   "source": []
  },
  {
   "cell_type": "code",
   "execution_count": null,
   "id": "historic-sterling",
   "metadata": {},
   "outputs": [],
   "source": []
  },
  {
   "cell_type": "markdown",
   "id": "genetic-fiber",
   "metadata": {},
   "source": [
    "# Create a Publication from a general RDF graph\n",
    "- Make an RDF graph containing one triple: (rdflib.BNode('somesortofconcept'), rdflib.RDF.type, rdflib.FOAF.Person )\n",
    "- Turn it into a Publication using the Publication.from_assertion() class method"
   ]
  },
  {
   "cell_type": "code",
   "execution_count": null,
   "id": "otherwise-remains",
   "metadata": {},
   "outputs": [],
   "source": []
  },
  {
   "cell_type": "code",
   "execution_count": null,
   "id": "ordinary-embassy",
   "metadata": {},
   "outputs": [],
   "source": []
  },
  {
   "cell_type": "code",
   "execution_count": null,
   "id": "threaded-occasions",
   "metadata": {},
   "outputs": [],
   "source": []
  },
  {
   "cell_type": "markdown",
   "id": "suspended-banana",
   "metadata": {},
   "source": [
    "# Publish it\n",
    "- Use client.publish()"
   ]
  },
  {
   "cell_type": "code",
   "execution_count": null,
   "id": "welsh-claim",
   "metadata": {},
   "outputs": [],
   "source": []
  },
  {
   "cell_type": "code",
   "execution_count": null,
   "id": "optical-confidentiality",
   "metadata": {},
   "outputs": [],
   "source": []
  },
  {
   "cell_type": "code",
   "execution_count": null,
   "id": "stable-dietary",
   "metadata": {},
   "outputs": [],
   "source": []
  },
  {
   "cell_type": "markdown",
   "id": "radio-prize",
   "metadata": {},
   "source": [
    "# Retract it\n",
    "- Use client.retract()"
   ]
  },
  {
   "cell_type": "code",
   "execution_count": null,
   "id": "whole-composer",
   "metadata": {},
   "outputs": [],
   "source": []
  },
  {
   "cell_type": "code",
   "execution_count": null,
   "id": "distinct-yeast",
   "metadata": {},
   "outputs": [],
   "source": []
  },
  {
   "cell_type": "code",
   "execution_count": null,
   "id": "respective-recommendation",
   "metadata": {},
   "outputs": [],
   "source": []
  },
  {
   "cell_type": "markdown",
   "id": "iraqi-direction",
   "metadata": {},
   "source": [
    "# See documentation for more features\n",
    "- https://nanopub.readthedocs.io/en/latest/index.html"
   ]
  }
 ],
 "metadata": {
  "kernelspec": {
   "display_name": "Python 3",
   "language": "python",
   "name": "python3"
  },
  "language_info": {
   "codemirror_mode": {
    "name": "ipython",
    "version": 3
   },
   "file_extension": ".py",
   "mimetype": "text/x-python",
   "name": "python",
   "nbconvert_exporter": "python",
   "pygments_lexer": "ipython3",
   "version": "3.8.5"
  }
 },
 "nbformat": 4,
 "nbformat_minor": 5
}
