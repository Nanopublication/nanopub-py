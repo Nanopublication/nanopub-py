{
 "cells": [
  {
   "cell_type": "code",
   "execution_count": 9,
   "metadata": {},
   "outputs": [],
   "source": [
    "from pprint import pprint\n",
    "from nanopub import NanopubClient, profile"
   ]
  },
  {
   "cell_type": "code",
   "execution_count": 10,
   "metadata": {},
   "outputs": [],
   "source": [
    "client = NanopubClient()"
   ]
  },
  {
   "cell_type": "code",
   "execution_count": 11,
   "metadata": {},
   "outputs": [],
   "source": [
    "results = client.find_nanopubs_with_text('fair')"
   ]
  },
  {
   "cell_type": "code",
   "execution_count": 12,
   "metadata": {},
   "outputs": [
    {
     "name": "stdout",
     "output_type": "stream",
     "text": [
      "{'date': '2025-01-08T11:09:13.845Z',\n",
      " 'description': '',\n",
      " 'label': 'FAIR Declaration',\n",
      " 'np': 'https://w3id.org/fair/fip/np/FAIR-Declaration/RAwxEoJ6HojfxLKHmLUKhpa4Uj0OI8k2UpfaRA9XPfx08'}\n"
     ]
    }
   ],
   "source": [
    "pprint(next(results))"
   ]
  },
  {
   "cell_type": "code",
   "execution_count": 13,
   "metadata": {},
   "outputs": [],
   "source": [
    "results = client.find_nanopubs_with_pattern(\n",
    "                pred='http://www.w3.org/1999/02/22-rdf-syntax-ns#type',\n",
    "                obj='http://www.w3.org/1999/02/22-rdf-syntax-ns#Statement')"
   ]
  },
  {
   "cell_type": "code",
   "execution_count": 14,
   "metadata": {},
   "outputs": [
    {
     "name": "stdout",
     "output_type": "stream",
     "text": [
      "{'date': '2023-01-10T14:07:49.629Z',\n",
      " 'description': '',\n",
      " 'np': 'http://purl.org/np/RAeqKfXKi6xhm4V0c1F0T6FSjBCYgnz4Q3u4_30Rpvvqw'}\n"
     ]
    }
   ],
   "source": [
    "pprint(next(results))"
   ]
  },
  {
   "cell_type": "code",
   "execution_count": 15,
   "metadata": {},
   "outputs": [],
   "source": [
    "results = client.find_things('http://purl.org/net/p-plan#Step', searchterm= 'operation')"
   ]
  },
  {
   "cell_type": "code",
   "execution_count": 16,
   "metadata": {},
   "outputs": [
    {
     "name": "stdout",
     "output_type": "stream",
     "text": [
      "{'date': '2021-06-14T12:21:40.870Z',\n",
      " 'description': \"@is_fairstep(label='A mathematical operation')\\n\"\n",
      "                'def weird(a: float, b:float) -> float:\\n'\n",
      "                '    return a * 2 + b * 4\\n',\n",
      " 'label': 'A mathematical operation',\n",
      " 'np': 'http://purl.org/np/RApLfg9GGL3CE_kLgixqMmI8StUEmjDyqTloa8L96uIHg'}\n"
     ]
    }
   ],
   "source": [
    "pprint(next(results))"
   ]
  },
  {
   "cell_type": "code",
   "execution_count": 17,
   "metadata": {},
   "outputs": [
    {
     "name": "stdout",
     "output_type": "stream",
     "text": [
      "{'date': '2021-04-30T15:31:38.523Z',\n",
      " 'description': \"@is_fairstep(label='Rotating an image represented by 90 \"\n",
      "                \"degrees')\\n\"\n",
      "                'def rotate_image(img):\\n'\n",
      "                '    from PIL import Image\\n'\n",
      "                '    return img.transpose(Image.ROTATE_90)\\n',\n",
      " 'label': 'Rotating an image represented by 90 degrees',\n",
      " 'np': 'http://purl.org/np/RAhktiJRIPegCgGhGRI4BgBVMfGRf7_6lOIf4em7sCPpw'}\n"
     ]
    }
   ],
   "source": [
    "results = client.find_things('http://purl.org/net/p-plan#Step')\n",
    "pprint(next(results))"
   ]
  },
  {
   "cell_type": "code",
   "execution_count": 19,
   "metadata": {},
   "outputs": [],
   "source": [
    "from nanopub import NanopubClient, profile, load_profile\n",
    "profile = load_profile()\n",
    "# Search for nanopublications containing the text test,\n",
    "# filtering on publications signed with my publication key.\n",
    "client = NanopubClient(use_test_server=True)\n",
    "my_public_key = profile.public_key\n",
    "results = client.find_nanopubs_with_text('test', pubkey=my_public_key)"
   ]
  },
  {
   "cell_type": "code",
   "execution_count": 21,
   "metadata": {},
   "outputs": [
    {
     "name": "stdout",
     "output_type": "stream",
     "text": [
      "{'date': '2024-03-11T10:10:14.653Z',\n",
      " 'description': '',\n",
      " 'label': 'test',\n",
      " 'np': 'https://w3id.org/np/RATjJ-As6e8vPNVNtpUL4O_ZiwJz7vGMY4WQrens3bsME'}\n"
     ]
    }
   ],
   "source": [
    "pprint(next(results))"
   ]
  }
 ],
 "metadata": {
  "kernelspec": {
   "display_name": "Python 3 (ipykernel)",
   "language": "python",
   "name": "python3"
  },
  "language_info": {
   "codemirror_mode": {
    "name": "ipython",
    "version": 3
   },
   "file_extension": ".py",
   "mimetype": "text/x-python",
   "name": "python",
   "nbconvert_exporter": "python",
   "pygments_lexer": "ipython3",
   "version": "3.12.7"
  }
 },
 "nbformat": 4,
 "nbformat_minor": 4
}
