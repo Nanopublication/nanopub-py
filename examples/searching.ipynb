{
 "cells": [
  {
   "cell_type": "code",
   "execution_count": 1,
   "metadata": {},
   "outputs": [],
   "source": [
    "from pprint import pprint\n",
    "from nanopub import NanopubClient"
   ]
  },
  {
   "cell_type": "code",
   "execution_count": 2,
   "metadata": {},
   "outputs": [],
   "source": [
    "client = NanopubClient()"
   ]
  },
  {
   "cell_type": "code",
   "execution_count": 8,
   "metadata": {},
   "outputs": [
    {
     "name": "stderr",
     "output_type": "stream",
     "text": [
      "/Users/svenvanderburg/projects/fair-workflows/nanopub/nanopub/client.py:106: UserWarning: Could not get response from http://130.60.24.146:7881/api/local/local/, trying other servers\n",
      "  warnings.warn(f'Could not get response from {grlc_url}, trying other servers')\n"
     ]
    }
   ],
   "source": [
    "results = client.find_nanopubs_with_text('fair', max_num_results=3)"
   ]
  },
  {
   "cell_type": "code",
   "execution_count": 9,
   "metadata": {},
   "outputs": [
    {
     "name": "stdout",
     "output_type": "stream",
     "text": [
      "[{'date': '2020-05-01T08:05:25.575Z',\n",
      "  'description': 'The primary objective of the VODAN Implementation Network is '\n",
      "                 'to showcase the creation and deployment of FAIR data related '\n",
      "                 'to COVID-19',\n",
      "  'np': 'http://purl.org/np/RAdDKjIGPt_2mE9oJtB3YQX6wGGdCC8ZWpkxEIoHsxOjE'},\n",
      " {'date': '2020-05-14T09:34:53.554Z',\n",
      "  'description': 'FAIR IN community',\n",
      "  'np': 'http://purl.org/np/RAPE0A-NrIZDeX3pvFJr0uHshocfXuUj8n_J3BkY0sMuU'},\n",
      " {'date': '2020-05-14T09:34:53.554Z',\n",
      "  'description': 'Defining a FAIR IN community',\n",
      "  'np': 'http://purl.org/np/RAPE0A-NrIZDeX3pvFJr0uHshocfXuUj8n_J3BkY0sMuU'}]\n"
     ]
    }
   ],
   "source": [
    "pprint(results)"
   ]
  },
  {
   "cell_type": "code",
   "execution_count": 12,
   "metadata": {},
   "outputs": [],
   "source": [
    "results = client.find_nanopubs_with_pattern(\n",
    "                pred='http://www.w3.org/1999/02/22-rdf-syntax-ns#type',\n",
    "                obj='http://www.w3.org/1999/02/22-rdf-syntax-ns#Statement',\n",
    "                max_num_results=3)"
   ]
  },
  {
   "cell_type": "code",
   "execution_count": 13,
   "metadata": {},
   "outputs": [
    {
     "name": "stdout",
     "output_type": "stream",
     "text": [
      "[{'date': '2020-06-16T08:36:19.849Z',\n",
      "  'np': 'http://purl.org/np/RAV51TP6VFVfDAw34xOAe1p5xGlBp7DnSiLXuXcWGEILc',\n",
      "  'v': ''},\n",
      " {'date': '2020-06-16T08:36:19.849Z',\n",
      "  'np': 'http://purl.org/np/RAV51TP6VFVfDAw34xOAe1p5xGlBp7DnSiLXuXcWGEILc',\n",
      "  'v': ''},\n",
      " {'date': '2020-06-16T08:36:19.849Z',\n",
      "  'np': 'http://purl.org/np/RAV51TP6VFVfDAw34xOAe1p5xGlBp7DnSiLXuXcWGEILc',\n",
      "  'v': ''}]\n"
     ]
    }
   ],
   "source": [
    "pprint(results)"
   ]
  },
  {
   "cell_type": "code",
   "execution_count": null,
   "metadata": {},
   "outputs": [],
   "source": []
  }
 ],
 "metadata": {
  "kernelspec": {
   "display_name": "Python [conda env:fair3.6] *",
   "language": "python",
   "name": "conda-env-fair3.6-py"
  },
  "language_info": {
   "codemirror_mode": {
    "name": "ipython",
    "version": 3
   },
   "file_extension": ".py",
   "mimetype": "text/x-python",
   "name": "python",
   "nbconvert_exporter": "python",
   "pygments_lexer": "ipython3",
   "version": "3.6.10"
  }
 },
 "nbformat": 4,
 "nbformat_minor": 4
}
