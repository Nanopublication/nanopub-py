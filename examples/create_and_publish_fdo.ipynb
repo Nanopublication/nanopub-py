{
 "cells": [
  {
   "cell_type": "markdown",
   "id": "22f0d912-5233-4a2b-b12e-b6ed09cd9078",
   "metadata": {},
   "source": [
    "# Create and publish FDO nanopublications"
   ]
  },
  {
   "cell_type": "markdown",
   "id": "b9b5555b-b43c-4d9f-8d36-33e34c4868d8",
   "metadata": {},
   "source": [
    "For the code below to work, you need to have your profile set up, specifying your ORCID identifier and generating a key pair, using this command:\n",
    "\n",
    "    $ np setup\n",
    "\n",
    "See also: https://fair-workflows.github.io/nanopub/getting-started/setup/#install-the-nanopub-library"
   ]
  },
  {
   "cell_type": "markdown",
   "id": "a0d92b45-db69-47c7-8923-560dbe355d51",
   "metadata": {},
   "source": [
    "### Importing the dependencies"
   ]
  },
  {
   "cell_type": "code",
   "execution_count": 1,
   "id": "4fbc4086-8419-4de7-a73c-528c65e6b820",
   "metadata": {},
   "outputs": [],
   "source": [
    "import rdflib\n",
    "from nanopub import definitions, Nanopub, NanopubClient, load_profile, NanopubConf\n",
    "import datetime"
   ]
  },
  {
   "cell_type": "markdown",
   "id": "677776eb-b962-452e-881f-970d5f991ba1",
   "metadata": {},
   "source": [
    "### Constructing the nanopublication"
   ]
  },
  {
   "cell_type": "code",
   "execution_count": 4,
   "id": "4f28a8a3-9ef9-4e9d-8d8e-c6debe40a6a1",
   "metadata": {},
   "outputs": [
    {
     "name": "stdout",
     "output_type": "stream",
     "text": [
      "@prefix dcterms: <http://purl.org/dc/terms/> .\n",
      "@prefix np: <http://www.nanopub.org/nschema#> .\n",
      "@prefix npx: <http://purl.org/nanopub/x/> .\n",
      "@prefix ns1: <https://hdl.handle.net/21.T11966/> .\n",
      "@prefix ns2: <https://w3id.org/fdof/ontology#> .\n",
      "@prefix orcid: <https://orcid.org/> .\n",
      "@prefix prov: <http://www.w3.org/ns/prov#> .\n",
      "@prefix rdfs: <http://www.w3.org/2000/01/rdf-schema#> .\n",
      "@prefix xsd: <http://www.w3.org/2001/XMLSchema#> .\n",
      "\n",
      "<http://purl.org/nanopub/temp/np/pubinfo> {\n",
      "    <http://purl.org/nanopub/temp/np/> rdfs:label \"FAIR Digital Object: NumberFdo1\" ;\n",
      "        dcterms:creator <https://orcid.org/https://orcid.org/0009-0009-0118-9195> ;\n",
      "        dcterms:license <https://creativecommons.org/licenses/by/4.0/> ;\n",
      "        npx:introduces <https://hdl.handle.net/21.T11967/39b0ec87d17a4856c5f7> ;\n",
      "        prov:generatedAtTime \"2025-04-15T21:31:37.723840\"^^xsd:dateTime ;\n",
      "        prov:wasAttributedTo orcid:0009-0009-0118-9195 .\n",
      "\n",
      "    ns1:06a6c27e3e2ef27779ec rdfs:label \"DataRef\" .\n",
      "\n",
      "    ns1:06fae297d104953b2eaa rdfs:label \"FdoType\" .\n",
      "\n",
      "    ns1:143d58e30d417a2cb75d rdfs:label \"FdoStatus\" .\n",
      "\n",
      "    ns1:4ee0ae648b243f49850f rdfs:label \"FdoProfile\" .\n",
      "\n",
      "    ns1:b5b58656b1fa5aff0505 rdfs:label \"FdoService\" .\n",
      "}\n",
      "\n",
      "<http://purl.org/nanopub/temp/np/Head> {\n",
      "    <http://purl.org/nanopub/temp/np/> a np:Nanopublication ;\n",
      "        np:hasAssertion <http://purl.org/nanopub/temp/np/assertion> ;\n",
      "        np:hasProvenance <http://purl.org/nanopub/temp/np/provenance> ;\n",
      "        np:hasPublicationInfo <http://purl.org/nanopub/temp/np/pubinfo> .\n",
      "}\n",
      "\n",
      "<http://purl.org/nanopub/temp/np/provenance> {\n",
      "    <http://purl.org/nanopub/temp/np/assertion> prov:wasAttributedTo orcid:0009-0009-0118-9195,\n",
      "            <https://orcid.org/https://orcid.org/0009-0009-0118-9195> .\n",
      "}\n",
      "\n",
      "<http://purl.org/nanopub/temp/np/assertion> {\n",
      "    <https://hdl.handle.net/21.T11967/39b0ec87d17a4856c5f7> a ns2:FAIRDigitalObject ;\n",
      "        rdfs:label \"NumberFdo1\" ;\n",
      "        ns1:06a6c27e3e2ef27779ec <https://hdl.handle.net/21.T11967/83d2b3f39034b2ac78cd> ;\n",
      "        ns1:06fae297d104953b2eaa \"{\\\"FdoGenre\\\":\\\"21.T11966/365ff9576c26ca6053db\\\",\\\"FdoMimeType\\\":\\\"21.T11966/f919d9f152904f6c40db\\\",\\\"FdoOperations\\\":[\\\"21.T11966/1da6d8c42eb6a685a8b6\\\"]}\"^^xsd:string ;\n",
      "        ns1:143d58e30d417a2cb75d \"created\" ;\n",
      "        ns1:4ee0ae648b243f49850f ns1:82045bd97a0acce88378 ;\n",
      "        ns1:b5b58656b1fa5aff0505 <https://hdl.handle.net/21.T11967/service> ;\n",
      "        ns2:hasMetadata <http://purl.org/nanopub/temp/np/> .\n",
      "}\n",
      "\n",
      "\n"
     ]
    }
   ],
   "source": [
    "conf = NanopubConf(\n",
    "    add_prov_generated_time=False,\n",
    "    add_pubinfo_generated_time=True,\n",
    "    attribute_assertion_to_profile=True,\n",
    "    attribute_publication_to_profile=True,\n",
    "    profile=load_profile(),\n",
    "    use_test_server=True\n",
    ")\n",
    "\n",
    "np = Nanopub(conf=conf)\n",
    "\n",
    "FDOF = rdflib.Namespace(\"https://w3id.org/fdof/ontology#\")\n",
    "FDOF_TYPES = rdflib.Namespace(\"https://w3id.org/fdof/types#\")\n",
    "NT = rdflib.Namespace(\"https://w3id.org/np/o/ntemplate/\")\n",
    "NPX = rdflib.Namespace(\"http://purl.org/nanopub/x/\")\n",
    "\n",
    "HDL = rdflib.Namespace(\"https://hdl.handle.net/\")\n",
    "DATA_REF = rdflib.URIRef(HDL[\"21.T11966/06a6c27e3e2ef27779ec\"])  # DataRef\n",
    "FDO_TYPE = rdflib.URIRef(HDL[\"21.T11966/06fae297d104953b2eaa\"])  # FdoType\n",
    "FDO_STATUS = rdflib.URIRef(HDL[\"21.T11966/143d58e30d417a2cb75d\"])  # FdoStatus\n",
    "FDO_PROFILE = rdflib.URIRef(HDL[\"21.T11966/4ee0ae648b243f49850f\"])  # FdoProfile\n",
    "FDO_SERVICE = rdflib.URIRef(HDL[\"21.T11966/b5b58656b1fa5aff0505\"])  # FdoService\n",
    "\n",
    "fdo_uri = rdflib.URIRef(HDL[\"21.T11967/39b0ec87d17a4856c5f7\"])\n",
    "orcid_uri = rdflib.URIRef(f\"https://orcid.org/{np.conf.profile.orcid_id}\")\n",
    "\n",
    "# Assertion \n",
    "np.assertion.add((fdo_uri, rdflib.RDF.type, FDOF.FAIRDigitalObject))\n",
    "np.assertion.add((fdo_uri, rdflib.RDFS.label, rdflib.Literal(\"NumberFdo1\")))\n",
    "np.assertion.add((fdo_uri, rdflib.URIRef(DATA_REF), rdflib.URIRef(HDL[\"21.T11967/83d2b3f39034b2ac78cd\"])))\n",
    "np.assertion.add((fdo_uri, rdflib.URIRef(FDO_TYPE), \n",
    "               rdflib.Literal('{\"FdoGenre\":\"21.T11966/365ff9576c26ca6053db\",\"FdoMimeType\":\"21.T11966/f919d9f152904f6c40db\",\"FdoOperations\":[\"21.T11966/1da6d8c42eb6a685a8b6\"]}', datatype=rdflib.XSD.string)))\n",
    "np.assertion.add((fdo_uri, rdflib.URIRef(FDO_STATUS), rdflib.Literal(\"created\")))\n",
    "np.assertion.add((fdo_uri, rdflib.URIRef(FDO_PROFILE), rdflib.URIRef(HDL[\"21.T11966/82045bd97a0acce88378\"])))\n",
    "np.assertion.add((fdo_uri, rdflib.URIRef(FDO_SERVICE), rdflib.URIRef(HDL[\"21.T11967/service\"])))\n",
    "np.assertion.add((fdo_uri, FDOF.hasMetadata, np.metadata.np_uri))\n",
    "\n",
    "# Provenance \n",
    "np.provenance.add((np.metadata.assertion, rdflib.PROV.wasAttributedTo, orcid_uri))\n",
    "\n",
    "# Publication info \n",
    "np.pubinfo.add((np.metadata.np_uri, rdflib.DCTERMS.creator, orcid_uri))\n",
    "np.pubinfo.add((DATA_REF, rdflib.RDFS.label, rdflib.Literal(\"DataRef\")))\n",
    "np.pubinfo.add((FDO_TYPE, rdflib.RDFS.label, rdflib.Literal(\"FdoType\")))\n",
    "np.pubinfo.add((FDO_STATUS, rdflib.RDFS.label, rdflib.Literal(\"FdoStatus\")))\n",
    "np.pubinfo.add((FDO_PROFILE, rdflib.RDFS.label, rdflib.Literal(\"FdoProfile\")))\n",
    "np.pubinfo.add((FDO_SERVICE, rdflib.RDFS.label, rdflib.Literal(\"FdoService\")))\n",
    "np.pubinfo.add((np.metadata.np_uri, rdflib.DCTERMS.creator, orcid_uri))\n",
    "np.pubinfo.add((np.metadata.np_uri, rdflib.DCTERMS.license, rdflib.URIRef(\"https://creativecommons.org/licenses/by/4.0/\")))\n",
    "np.pubinfo.add((np.metadata.np_uri, rdflib.RDFS.label, rdflib.Literal(\"FAIR Digital Object: NumberFdo1\")))\n",
    "np.pubinfo.add((np.metadata.np_uri, NPX.introduces, fdo_uri))\n",
    "\n",
    "print(np)"
   ]
  },
  {
   "cell_type": "markdown",
   "id": "64d82aff-8ed2-46e9-88eb-e486d81d81c7",
   "metadata": {},
   "source": [
    "### Signing the nanopublication"
   ]
  },
  {
   "cell_type": "code",
   "execution_count": 5,
   "id": "d35d7fab-c0a2-4873-b977-bc6ef07b0f76",
   "metadata": {},
   "outputs": [],
   "source": [
    "np.sign()"
   ]
  },
  {
   "cell_type": "code",
   "execution_count": 6,
   "id": "36daecf8-525e-4c71-910b-76cd15a7cdcd",
   "metadata": {},
   "outputs": [
    {
     "name": "stdout",
     "output_type": "stream",
     "text": [
      "Nanopub URI: \u001b[1mhttps://w3id.org/np/RAG_p_FZNb9dJvpHtlsztFCPHjXPpsTFkww2o8g1123Ao\u001b[0m\n",
      "@prefix dcterms: <http://purl.org/dc/terms/> .\n",
      "@prefix np: <http://www.nanopub.org/nschema#> .\n",
      "@prefix npx: <http://purl.org/nanopub/x/> .\n",
      "@prefix ns1: <https://hdl.handle.net/21.T11966/> .\n",
      "@prefix ns2: <https://w3id.org/fdof/ontology#> .\n",
      "@prefix orcid: <https://orcid.org/> .\n",
      "@prefix prov: <http://www.w3.org/ns/prov#> .\n",
      "@prefix rdfs: <http://www.w3.org/2000/01/rdf-schema#> .\n",
      "@prefix sub: <https://w3id.org/np/RAG_p_FZNb9dJvpHtlsztFCPHjXPpsTFkww2o8g1123Ao/> .\n",
      "@prefix this: <https://w3id.org/np/RAG_p_FZNb9dJvpHtlsztFCPHjXPpsTFkww2o8g1123Ao> .\n",
      "@prefix xsd: <http://www.w3.org/2001/XMLSchema#> .\n",
      "\n",
      "sub:Head {\n",
      "    this: a np:Nanopublication ;\n",
      "        np:hasAssertion sub:assertion ;\n",
      "        np:hasProvenance sub:provenance ;\n",
      "        np:hasPublicationInfo sub:pubinfo .\n",
      "}\n",
      "\n",
      "sub:assertion {\n",
      "    <https://hdl.handle.net/21.T11967/39b0ec87d17a4856c5f7> a ns2:FAIRDigitalObject ;\n",
      "        rdfs:label \"NumberFdo1\" ;\n",
      "        ns1:06a6c27e3e2ef27779ec <https://hdl.handle.net/21.T11967/83d2b3f39034b2ac78cd> ;\n",
      "        ns1:06fae297d104953b2eaa \"{\\\"FdoGenre\\\":\\\"21.T11966/365ff9576c26ca6053db\\\",\\\"FdoMimeType\\\":\\\"21.T11966/f919d9f152904f6c40db\\\",\\\"FdoOperations\\\":[\\\"21.T11966/1da6d8c42eb6a685a8b6\\\"]}\"^^xsd:string ;\n",
      "        ns1:143d58e30d417a2cb75d \"created\" ;\n",
      "        ns1:4ee0ae648b243f49850f ns1:82045bd97a0acce88378 ;\n",
      "        ns1:b5b58656b1fa5aff0505 <https://hdl.handle.net/21.T11967/service> ;\n",
      "        ns2:hasMetadata this: .\n",
      "}\n",
      "\n",
      "sub:provenance {\n",
      "    sub:assertion prov:wasAttributedTo orcid:0009-0009-0118-9195,\n",
      "            <https://orcid.org/https://orcid.org/0009-0009-0118-9195> .\n",
      "}\n",
      "\n",
      "sub:pubinfo {\n",
      "    ns1:06a6c27e3e2ef27779ec rdfs:label \"DataRef\" .\n",
      "\n",
      "    ns1:06fae297d104953b2eaa rdfs:label \"FdoType\" .\n",
      "\n",
      "    ns1:143d58e30d417a2cb75d rdfs:label \"FdoStatus\" .\n",
      "\n",
      "    ns1:4ee0ae648b243f49850f rdfs:label \"FdoProfile\" .\n",
      "\n",
      "    ns1:b5b58656b1fa5aff0505 rdfs:label \"FdoService\" .\n",
      "\n",
      "    sub:sig npx:hasAlgorithm \"RSA\" ;\n",
      "        npx:hasPublicKey \"MIIBIjANBgkqhkiG9w0BAQEFAAOCAQ8AMIIBCgKCAQEAw3QafWPHCDnuVY+aTaavfIP9Q6GWzlYL0kTzq7+t11EKQoG6IDcxt1naJ2aftVjMmEn+n1kruckVXGXaBZANNPUJj/Vk1RGF9UqdEb+HI2F8NKxE3/lnwFWDCI4mPOI0AL5MyTOsbkzARbLeW4eMYALYuYHyjkB41OjFqho3uHEUFlVuOgq/SKaTN2iW53hT47DxVs3hSCD5Y3ZPpZzwwSASy/lkAbqdmcOftansqwp6PTlbvyzHp9z6VLWxCNWajndrAMuvFo4a6XegKPTQy5yAd/Q61x9l1hlzuD/iCem/oF/+xFVVD7KH7ZbrSj9b/MVr7emN0w3GGMMiYIeKjQIDAQAB\" ;\n",
      "        npx:hasSignature \"lgwoMFte/ZSamuIIpoBYv7WmvjFP0dfxOuD7E4C+W8+R20H6yZqHaYjeJU3oU1L3qNQ26iBMMhs28sOT/epP8z8MqJd1oa+4eIconu5YJtjgFHnR2mDR3lvVmWjHgIAgJWbACq2tBdQ51nX5nicufjCgcObskFBoWqhaBpjmpNTklIQgBY0/MCdcaexIB9PT44fYan3tNRmImDTSu0uj6aDXiRHED6RFkgyv7mb59kysVqO4k7ugA4ItXIyLOTwgwA+uVD9BegS5eqg4bzr+pBXT1yEPz0wpv2DNT34mEiwtF2HazMgzFXx8K8lqNmuFQpcYxjcM5vALFNMD3Nf9FA==\" ;\n",
      "        npx:hasSignatureTarget this: .\n",
      "\n",
      "    this: rdfs:label \"FAIR Digital Object: NumberFdo1\" ;\n",
      "        dcterms:creator <https://orcid.org/https://orcid.org/0009-0009-0118-9195> ;\n",
      "        dcterms:license <https://creativecommons.org/licenses/by/4.0/> ;\n",
      "        npx:introduces <https://hdl.handle.net/21.T11967/39b0ec87d17a4856c5f7> ;\n",
      "        prov:generatedAtTime \"2025-04-15T21:31:37.723840\"^^xsd:dateTime ;\n",
      "        prov:wasAttributedTo orcid:0009-0009-0118-9195 .\n",
      "}\n",
      "\n",
      "\n"
     ]
    }
   ],
   "source": [
    "print(np)"
   ]
  },
  {
   "cell_type": "code",
   "execution_count": 7,
   "id": "6e200b32-8b14-4708-a295-013fc5b02fd3",
   "metadata": {},
   "outputs": [
    {
     "name": "stdout",
     "output_type": "stream",
     "text": [
      "https://w3id.org/np/RAG_p_FZNb9dJvpHtlsztFCPHjXPpsTFkww2o8g1123Ao\n"
     ]
    }
   ],
   "source": [
    "npuri = np.metadata.np_uri\n",
    "print(npuri)"
   ]
  },
  {
   "cell_type": "markdown",
   "id": "1b6b5458-d6ec-4b67-ac2f-40814cb92f96",
   "metadata": {},
   "source": [
    "### Publishing the nanopublication"
   ]
  },
  {
   "cell_type": "code",
   "execution_count": 8,
   "id": "04594731-b05b-4539-ba96-3afb8211c2ba",
   "metadata": {},
   "outputs": [],
   "source": [
    "np.publish()"
   ]
  },
  {
   "cell_type": "markdown",
   "id": "7a2df19a-8977-4633-a008-84fdcf916a60",
   "metadata": {},
   "source": [
    "# Fetch again the published nanopublication from the network"
   ]
  },
  {
   "cell_type": "code",
   "execution_count": 9,
   "id": "c3caf636-8dcc-4db9-8a64-94f909dc019c",
   "metadata": {},
   "outputs": [
    {
     "ename": "HTTPError",
     "evalue": "404 Client Error:  for url: https://np.knowledgepixels.com/RAG_p_FZNb9dJvpHtlsztFCPHjXPpsTFkww2o8g1123Ao",
     "output_type": "error",
     "traceback": [
      "\u001b[0;31m---------------------------------------------------------------------------\u001b[0m",
      "\u001b[0;31mHTTPError\u001b[0m                                 Traceback (most recent call last)",
      "Cell \u001b[0;32mIn[9], line 4\u001b[0m\n\u001b[1;32m      1\u001b[0m fetchConf \u001b[38;5;241m=\u001b[39m NanopubConf(\n\u001b[1;32m      2\u001b[0m     use_test_server\u001b[38;5;241m=\u001b[39m\u001b[38;5;28;01mTrue\u001b[39;00m\n\u001b[1;32m      3\u001b[0m )\n\u001b[0;32m----> 4\u001b[0m fetchNp \u001b[38;5;241m=\u001b[39m Nanopub(npuri, conf\u001b[38;5;241m=\u001b[39mfetchConf)\n",
      "File \u001b[0;32m~/dev/kp/nanopub-py/nanopub/nanopub.py:69\u001b[0m, in \u001b[0;36mNanopub.__init__\u001b[0;34m(self, source_uri, assertion, provenance, pubinfo, rdf, introduces_concept, conf)\u001b[0m\n\u001b[1;32m     67\u001b[0m     uri_test \u001b[38;5;241m=\u001b[39m TEST_NANOPUB_REGISTRY_URL \u001b[38;5;241m+\u001b[39m nanopub_id\n\u001b[1;32m     68\u001b[0m     r \u001b[38;5;241m=\u001b[39m requests\u001b[38;5;241m.\u001b[39mget(uri_test \u001b[38;5;241m+\u001b[39m \u001b[38;5;124m\"\u001b[39m\u001b[38;5;124m.\u001b[39m\u001b[38;5;124m\"\u001b[39m \u001b[38;5;241m+\u001b[39m NANOPUB_FETCH_FORMAT)\n\u001b[0;32m---> 69\u001b[0m r\u001b[38;5;241m.\u001b[39mraise_for_status()\n\u001b[1;32m     70\u001b[0m \u001b[38;5;28mself\u001b[39m\u001b[38;5;241m.\u001b[39m_rdf \u001b[38;5;241m=\u001b[39m \u001b[38;5;28mself\u001b[39m\u001b[38;5;241m.\u001b[39m_preformat_graph(ConjunctiveGraph())\n\u001b[1;32m     71\u001b[0m \u001b[38;5;28mself\u001b[39m\u001b[38;5;241m.\u001b[39m_rdf\u001b[38;5;241m.\u001b[39mparse(data\u001b[38;5;241m=\u001b[39mr\u001b[38;5;241m.\u001b[39mtext, \u001b[38;5;28mformat\u001b[39m\u001b[38;5;241m=\u001b[39mNANOPUB_FETCH_FORMAT)\n",
      "File \u001b[0;32m~/anaconda3/lib/python3.11/site-packages/requests/models.py:1024\u001b[0m, in \u001b[0;36mResponse.raise_for_status\u001b[0;34m(self)\u001b[0m\n\u001b[1;32m   1019\u001b[0m     http_error_msg \u001b[38;5;241m=\u001b[39m (\n\u001b[1;32m   1020\u001b[0m         \u001b[38;5;124mf\u001b[39m\u001b[38;5;124m\"\u001b[39m\u001b[38;5;132;01m{\u001b[39;00m\u001b[38;5;28mself\u001b[39m\u001b[38;5;241m.\u001b[39mstatus_code\u001b[38;5;132;01m}\u001b[39;00m\u001b[38;5;124m Server Error: \u001b[39m\u001b[38;5;132;01m{\u001b[39;00mreason\u001b[38;5;132;01m}\u001b[39;00m\u001b[38;5;124m for url: \u001b[39m\u001b[38;5;132;01m{\u001b[39;00m\u001b[38;5;28mself\u001b[39m\u001b[38;5;241m.\u001b[39murl\u001b[38;5;132;01m}\u001b[39;00m\u001b[38;5;124m\"\u001b[39m\n\u001b[1;32m   1021\u001b[0m     )\n\u001b[1;32m   1023\u001b[0m \u001b[38;5;28;01mif\u001b[39;00m http_error_msg:\n\u001b[0;32m-> 1024\u001b[0m     \u001b[38;5;28;01mraise\u001b[39;00m HTTPError(http_error_msg, response\u001b[38;5;241m=\u001b[39m\u001b[38;5;28mself\u001b[39m)\n",
      "\u001b[0;31mHTTPError\u001b[0m: 404 Client Error:  for url: https://np.knowledgepixels.com/RAG_p_FZNb9dJvpHtlsztFCPHjXPpsTFkww2o8g1123Ao"
     ]
    }
   ],
   "source": [
    "fetchConf = NanopubConf(\n",
    "    use_test_server=True\n",
    ")\n",
    "fetchNp = Nanopub(npuri, conf=fetchConf)"
   ]
  },
  {
   "cell_type": "code",
   "execution_count": 10,
   "id": "d9de99b4-208c-48d6-a2e5-293d46d40ae8",
   "metadata": {},
   "outputs": [
    {
     "ename": "NameError",
     "evalue": "name 'fetchNp' is not defined",
     "output_type": "error",
     "traceback": [
      "\u001b[0;31m---------------------------------------------------------------------------\u001b[0m",
      "\u001b[0;31mNameError\u001b[0m                                 Traceback (most recent call last)",
      "Cell \u001b[0;32mIn[10], line 1\u001b[0m\n\u001b[0;32m----> 1\u001b[0m \u001b[38;5;28mprint\u001b[39m(fetchNp)\n",
      "\u001b[0;31mNameError\u001b[0m: name 'fetchNp' is not defined"
     ]
    }
   ],
   "source": [
    "print(fetchNp)"
   ]
  }
 ],
 "metadata": {
  "kernelspec": {
   "display_name": "Python 3 (ipykernel)",
   "language": "python",
   "name": "python3"
  },
  "language_info": {
   "codemirror_mode": {
    "name": "ipython",
    "version": 3
   },
   "file_extension": ".py",
   "mimetype": "text/x-python",
   "name": "python",
   "nbconvert_exporter": "python",
   "pygments_lexer": "ipython3",
   "version": "3.11.11"
  }
 },
 "nbformat": 4,
 "nbformat_minor": 5
}
