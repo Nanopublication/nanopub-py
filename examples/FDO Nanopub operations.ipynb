{
 "cells": [
  {
   "cell_type": "code",
   "execution_count": null,
   "id": "828e6fd6-dcf8-499a-901d-730ac203a096",
   "metadata": {},
   "outputs": [],
   "source": [
    "import rdflib\n",
    "from rdflib.namespace import RDF, RDFS, SH, XSD\n",
    "from nanopub import (\n",
    "    definitions,\n",
    "    Nanopub,\n",
    "    NanopubClient,\n",
    "    load_profile,\n",
    "    NanopubConf,\n",
    ")\n",
    "from nanopub.fdo import (\n",
    "    FdoNanopub,\n",
    "    FdoRecord,\n",
    "    update_record,\n",
    "    retrieve_record_from_id,\n",
    "    retrieve_content_from_id,\n",
    "    validate_fdo_record,\n",
    "    resolve_id\n",
    ")\n",
    "import datetime\n",
    "from nanopub.namespaces import HDL, FDOF, PROV, NPX, NP\n",
    "from pyshacl import validate\n",
    "from rdflib import Graph, URIRef, Literal\n",
    "import requests\n",
    "import json\n"
   ]
  },
  {
   "cell_type": "code",
   "execution_count": null,
   "id": "f3b87e9d-3521-41d8-a5ea-435dc3872868",
   "metadata": {},
   "outputs": [],
   "source": [
    "## Setup\n",
    "\n",
    "conf = NanopubConf(\n",
    "    add_prov_generated_time=False,\n",
    "    add_pubinfo_generated_time=True,\n",
    "    attribute_assertion_to_profile=True,\n",
    "    attribute_publication_to_profile=True,\n",
    "    profile=load_profile(),\n",
    "    use_test_server=True\n",
    ")\n",
    "\n",
    "## Define identifiers\n",
    "iri = \"https://w3id.org/np/RAsSeIyT03LnZt3QvtwUqIHSCJHWW1YeLkyu66Lg4FeBk/nanodash-readme\"\n",
    "handle_iri = \"https://hdl.handle.net/21.T11966/82045bd97a0acce88378\"\n",
    "handle_pid = \"21.T11966/82045bd97a0acce88378\"\n"
   ]
  },
  {
   "cell_type": "markdown",
   "id": "85b7658c-7081-4687-9445-ae3e61cf5ede",
   "metadata": {},
   "source": [
    "## Op.Resolve\n",
    "\n",
    "Retrieving key-value pairs from the FDO record for given FDO PID."
   ]
  },
  {
   "cell_type": "code",
   "execution_count": null,
   "id": "70ed3af5-910b-4e3d-a4f2-df5f518e2a28",
   "metadata": {},
   "outputs": [],
   "source": [
    "fdo_record_from_iri = resolve_id(iri)\n",
    "fdo_record_from_handle_iri = resolve_id(handle_iri)\n",
    "fdo_record_from_handle_pid = resolve_id(handle_pid)\n",
    "\n",
    "print(fdo_record_from_iri)\n",
    "print(fdo_record_from_handle_iri)\n",
    "print(fdo_record_from_handle_pid)"
   ]
  },
  {
   "cell_type": "markdown",
   "id": "99bc46f0-f217-4962-853c-a3dfbc1d9615",
   "metadata": {},
   "source": [
    "## Op.RetrieveContent\n",
    "Download the bitstream/file of an FDO."
   ]
  },
  {
   "cell_type": "code",
   "execution_count": null,
   "id": "167b0d81-0c28-45f7-b30d-78478ba58cfa",
   "metadata": {},
   "outputs": [],
   "source": [
    "## Utility function to print the results of this operation\n",
    "def print_file_info(file_content: bytes, content_type: str = \"unknown\", filename: str = None):\n",
    "    print(f\"Filename: {filename or 'N/A'}\")\n",
    "    print(f\"Content-Type: {content_type}\")\n",
    "    print(f\"Size: {len(file_content)} bytes\")\n",
    "    print(\"Content preview (first 500 bytes):\")\n",
    "    try:\n",
    "        print(file_content[:500].decode(\"utf-8\"))\n",
    "    except UnicodeDecodeError:\n",
    "        print(file_content[:500])  # print raw bytes if not utf-8\n",
    "\n",
    "fdo_content_from_iri = retrieve_content_from_id(iri)\n",
    "print_file_info(fdo_content_from_iri)\n",
    "\n",
    "# TODO: replace with an FDO example with valid dataref\n",
    "#fdo_content_from_handle_iri = retrieve_content_from_id(handle_iri)\n",
    "#print_file_info(fdo_content_from_handle_iri)\n",
    "\n",
    "# TODO: replace with an FDO example with valid dataref\n",
    "#fdo_content_from_handle_pid = retrieve_content_from_id(handle_pid)\n",
    "#print_file_info(fdo_content_from_handle_pid)"
   ]
  },
  {
   "cell_type": "markdown",
   "id": "eeca28a8-d6df-492b-8a1a-1235d0c7bfdf",
   "metadata": {},
   "source": [
    "## Op.Validate\n",
    "Validate given FDO record according to its profile."
   ]
  },
  {
   "cell_type": "code",
   "execution_count": null,
   "id": "9e5d2f4b-07f2-4d6e-bddd-15e8d5e0c971",
   "metadata": {},
   "outputs": [],
   "source": [
    "# Step 1: Resolve PID\n",
    "fdo_record_from_iri = resolve_id(iri)\n",
    "\n",
    "# Step 2: Validate\n",
    "validation_results = validate_fdo_record(fdo_record_from_iri)\n",
    "print(validation_results)\n",
    "\n",
    "# TODO: examples with valid handle-based FDOs\n",
    "# Step 1: Resolve PID\n",
    "#fdo_record_from_handle_iri = resolve_id(handle_iri)\n",
    "\n",
    "# Step 2: Validate\n",
    "#validate_fdo_record(fdo_record_from_handle_iri)\n",
    "\n",
    "# Step 1: Resolve PID\n",
    "#fdo_record_from_handle_pid = resolve_id(handle_pid)\n",
    "\n",
    "# Step 2: Validate\n",
    "#validate_fdo_record(fdo_record_from_handle_pid)"
   ]
  },
  {
   "cell_type": "markdown",
   "id": "7d48393a-ec71-47ba-947c-bb75c212e444",
   "metadata": {},
   "source": [
    "## Op.Create\n",
    "Defining a new FDO by creating and publishing a new FDO record (for an existing file, or without file reference)."
   ]
  },
  {
   "cell_type": "code",
   "execution_count": null,
   "id": "554fbde3-5afd-4f7a-8676-7b7f457139e6",
   "metadata": {},
   "outputs": [],
   "source": [
    "record = FdoRecord(\n",
    "    profile_uri=\"https://hdl.handle.net/12345\",\n",
    "    label=\"Test FDO\",\n",
    "    dataref=\"https://example.org/data/456\"\n",
    ")\n",
    "\n",
    "fdo_from_iri = FdoNanopub.create_with_fdo_iri(fdo_record=record, fdo_iri=\"https://example.org/example-fdo\")\n",
    "print(fdo_from_iri)"
   ]
  },
  {
   "cell_type": "markdown",
   "id": "803d84dd-1ab1-438a-931c-c0aa58c7979c",
   "metadata": {},
   "source": [
    "## Op.Handle2Nanopub\n",
    "\n",
    "This operation is transforming an existing Handle-based FDO record into a nanopublication-based one. "
   ]
  },
  {
   "cell_type": "code",
   "execution_count": null,
   "id": "9960656c-586a-4641-82c0-e6bdd6db3a5d",
   "metadata": {},
   "outputs": [],
   "source": [
    "np = FdoNanopub.handle_to_nanopub(handle_pid)\n",
    "\n",
    "print(np)"
   ]
  },
  {
   "cell_type": "markdown",
   "id": "05f61ddb-66c8-40ad-b5a3-8ef95d126b88",
   "metadata": {},
   "source": [
    "## Op.Update record\n",
    "\n",
    "Updates the record of an FDO, keeping the same FDO PID."
   ]
  },
  {
   "cell_type": "code",
   "execution_count": null,
   "id": "da5aeceb-a5e9-493c-9800-11005e521db0",
   "metadata": {},
   "outputs": [],
   "source": [
    "# The following steps are not needed if starting from an existing nanopub, this is so that we can see a successful update (same pubkey)\n",
    "# Create a new FDO record manually\n",
    "initial_record = FdoRecord(\n",
    "    profile_uri=\"https://w3id.org/fdo/profile/fdp\", \n",
    "    label=\"Example FDO\",\n",
    "    dataref=\"https://example.org/dummy-data\"\n",
    ")\n",
    "\n",
    "# Define a new FDO IRI \n",
    "fdo_iri = \"https://example.org/test-fdo-123\"\n",
    "\n",
    "# Publish initial nanopub\n",
    "npub = FdoNanopub.create_with_fdo_iri(\n",
    "    fdo_record=initial_record,\n",
    "    fdo_iri=fdo_iri,\n",
    "    data_ref=initial_record.get_data_ref(),\n",
    "    conf=conf\n",
    ")\n",
    "\n",
    "published_uri, server_used = npub.publish()\n",
    "\n",
    "fetchConf = NanopubConf(\n",
    "    use_test_server=True\n",
    ")\n",
    "fetchNp = Nanopub(published_uri, conf=fetchConf)\n",
    "print(fetchNp)\n",
    "\n",
    "# Step 1: Resolve existing record: source_uri will only be available if we find it in the nanopub network, \n",
    "# and it is used to update (supersede and re-publish) an existing nanopub, otherwise we will create a brand new nanopub\n",
    "record = resolve_id(published_uri, conf=conf)\n",
    "\n",
    "# Step 2: Make modifications\n",
    "record.set_property(RDFS.label, Literal(\"Updated label\"))\n",
    "\n",
    "# Step 3: Update and publish\n",
    "new_published_uri, server_used  = update_record(\n",
    "    fdo_iri=published_uri,\n",
    "    record=record,\n",
    "    publish=True,\n",
    "    conf=conf\n",
    ")\n",
    "\n",
    "print(f\"FDO updated and published at: {new_published_uri} (server: {server_used})\")\n",
    "\n",
    "updatedNp = Nanopub(new_published_uri, conf=fetchConf)\n",
    "\n",
    "print(updatedNp)\n"
   ]
  },
  {
   "cell_type": "markdown",
   "id": "123882b9-2a43-44ce-a523-18f83f50335a",
   "metadata": {},
   "source": [
    "## Op.Create aggregation FDO"
   ]
  },
  {
   "cell_type": "code",
   "execution_count": null,
   "id": "c6abfc30-7fe3-4062-9cdd-8bcab7f8787a",
   "metadata": {},
   "outputs": [],
   "source": [
    "fdo_iri = \"https://w3id.org/fdo/example/fdo\"\n",
    "profile_uri= \"https://w3id.org/fdo/profile/fdp\"\n",
    "\n",
    "label = \"ComplexNanopubExample001\"\n",
    "\n",
    "aggregates = [\n",
    "    \"https://w3id.org/np/RAbb0pvoFGiNwcY8nL-qSR93O4AAcfsQRS_TNvLqt0VHg/FdoExample\",\n",
    "    \"https://w3id.org/np/RAwCj8sM9FkB8Wyz3-i0Fh9Dcq1NniH1sErJBVEkoRQ-o/FdoExample\",\n",
    "    \"https://w3id.org/np/RADTajQ3RJ8RNklhV8_W7B0pcJswCmm25zJPp7M-K0BRg/FdoExample\",\n",
    "]\n",
    "\n",
    "npub = FdoNanopub.create_aggregation_fdo(\n",
    "    fdo_iri=fdo_iri,\n",
    "    profile_uri=profile_uri,\n",
    "    label=label,\n",
    "    aggregates=aggregates,\n",
    "    conf=conf\n",
    ")\n",
    "\n",
    "\n",
    "npub.sign()\n",
    "\n",
    "print(npub)\n",
    "npub.publish()\n"
   ]
  }
 ],
 "metadata": {
  "kernelspec": {
   "display_name": "Python (nanopub-venv)",
   "language": "python",
   "name": "nanopub-venv"
  },
  "language_info": {
   "codemirror_mode": {
    "name": "ipython",
    "version": 3
   },
   "file_extension": ".py",
   "mimetype": "text/x-python",
   "name": "python",
   "nbconvert_exporter": "python",
   "pygments_lexer": "ipython3",
   "version": "3.11.11"
  }
 },
 "nbformat": 4,
 "nbformat_minor": 5
}
