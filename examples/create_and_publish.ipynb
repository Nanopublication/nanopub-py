{
 "cells": [
  {
   "cell_type": "markdown",
   "id": "22f0d912-5233-4a2b-b12e-b6ed09cd9078",
   "metadata": {},
   "source": [
    "# Create and publish nanopublications"
   ]
  },
  {
   "cell_type": "markdown",
   "id": "b9b5555b-b43c-4d9f-8d36-33e34c4868d8",
   "metadata": {},
   "source": [
    "For the code below to work, you need to have your profile set up, specifying your ORCID identifier and generating a key pair, using this command:\n",
    "\n",
    "    $ np setup\n",
    "\n",
    "See also: https://fair-workflows.github.io/nanopub/getting-started/setup/#install-the-nanopub-library"
   ]
  },
  {
   "cell_type": "markdown",
   "id": "a0d92b45-db69-47c7-8923-560dbe355d51",
   "metadata": {},
   "source": [
    "### Importing the dependencies"
   ]
  },
  {
   "cell_type": "code",
   "execution_count": 1,
   "id": "4fbc4086-8419-4de7-a73c-528c65e6b820",
   "metadata": {},
   "outputs": [],
   "source": [
    "import rdflib\n",
    "from nanopub import definitions, Nanopub, NanopubClient, load_profile, NanopubConf\n",
    "import datetime"
   ]
  },
  {
   "cell_type": "markdown",
   "id": "677776eb-b962-452e-881f-970d5f991ba1",
   "metadata": {},
   "source": [
    "### Constructing the nanopublication"
   ]
  },
  {
   "cell_type": "code",
   "execution_count": 2,
   "id": "4f28a8a3-9ef9-4e9d-8d8e-c6debe40a6a1",
   "metadata": {},
   "outputs": [
    {
     "name": "stdout",
     "output_type": "stream",
     "text": [
      "@prefix np: <http://www.nanopub.org/nschema#> .\n",
      "@prefix orcid: <https://orcid.org/> .\n",
      "@prefix prov: <http://www.w3.org/ns/prov#> .\n",
      "@prefix xsd: <http://www.w3.org/2001/XMLSchema#> .\n",
      "\n",
      "<http://purl.org/nanopub/temp/np/pubinfo> {\n",
      "    <http://purl.org/nanopub/temp/np/> a <https://example.org/> ;\n",
      "        prov:generatedAtTime \"2025-04-15T13:25:28.354116\"^^xsd:dateTime ;\n",
      "        prov:wasAttributedTo orcid:0000-0002-1267-0234 .\n",
      "}\n",
      "\n",
      "<http://purl.org/nanopub/temp/np/provenance> {\n",
      "    <http://purl.org/nanopub/temp/np/assertion> prov:wasAttributedTo orcid:0000-0002-1267-0234 ;\n",
      "        prov:wasDerivedFrom <https://example.org/provenance> .\n",
      "}\n",
      "\n",
      "<http://purl.org/nanopub/temp/np/assertion> {\n",
      "    <http://purl.org/nanopub/temp/np/foo> a <https://example.org/test> .\n",
      "}\n",
      "\n",
      "<http://purl.org/nanopub/temp/np/Head> {\n",
      "    <http://purl.org/nanopub/temp/np/> a np:Nanopublication ;\n",
      "        np:hasAssertion <http://purl.org/nanopub/temp/np/assertion> ;\n",
      "        np:hasProvenance <http://purl.org/nanopub/temp/np/provenance> ;\n",
      "        np:hasPublicationInfo <http://purl.org/nanopub/temp/np/pubinfo> .\n",
      "}\n",
      "\n",
      "\n"
     ]
    }
   ],
   "source": [
    "conf = NanopubConf(\n",
    "    add_prov_generated_time=False,\n",
    "    add_pubinfo_generated_time=True,\n",
    "    attribute_assertion_to_profile=True,\n",
    "    attribute_publication_to_profile=True,\n",
    "    profile=load_profile(),\n",
    "    use_test_server=True\n",
    ")\n",
    "\n",
    "np = Nanopub(conf=conf)\n",
    "np.assertion.add((rdflib.URIRef(np.metadata.np_uri + 'foo'), rdflib.RDF.type, rdflib.URIRef('https://example.org/test')))\n",
    "np.provenance.add((np.metadata.assertion, rdflib.PROV.wasDerivedFrom, rdflib.URIRef('https://example.org/provenance')))\n",
    "np.pubinfo.add((np.metadata.np_uri, rdflib.RDF.type, rdflib.URIRef('https://example.org/')))\n",
    "\n",
    "print(np)"
   ]
  },
  {
   "cell_type": "markdown",
   "id": "64d82aff-8ed2-46e9-88eb-e486d81d81c7",
   "metadata": {},
   "source": [
    "### Signing the nanopublication"
   ]
  },
  {
   "cell_type": "code",
   "execution_count": 3,
   "id": "d35d7fab-c0a2-4873-b977-bc6ef07b0f76",
   "metadata": {},
   "outputs": [],
   "source": [
    "np.sign()"
   ]
  },
  {
   "cell_type": "code",
   "execution_count": 4,
   "id": "36daecf8-525e-4c71-910b-76cd15a7cdcd",
   "metadata": {},
   "outputs": [
    {
     "name": "stdout",
     "output_type": "stream",
     "text": [
      "Nanopub URI: \u001b[1mhttps://w3id.org/np/RAEsCWoKbEKujIYmlhhX8OaFg6DRgUt2fgsNiNpK5Ec-s\u001b[0m\n",
      "@prefix np: <http://www.nanopub.org/nschema#> .\n",
      "@prefix npx: <http://purl.org/nanopub/x/> .\n",
      "@prefix orcid: <https://orcid.org/> .\n",
      "@prefix prov: <http://www.w3.org/ns/prov#> .\n",
      "@prefix sub: <https://w3id.org/np/RAEsCWoKbEKujIYmlhhX8OaFg6DRgUt2fgsNiNpK5Ec-s/> .\n",
      "@prefix this: <https://w3id.org/np/RAEsCWoKbEKujIYmlhhX8OaFg6DRgUt2fgsNiNpK5Ec-s> .\n",
      "@prefix xsd: <http://www.w3.org/2001/XMLSchema#> .\n",
      "\n",
      "sub:Head {\n",
      "    this: a np:Nanopublication ;\n",
      "        np:hasAssertion sub:assertion ;\n",
      "        np:hasProvenance sub:provenance ;\n",
      "        np:hasPublicationInfo sub:pubinfo .\n",
      "}\n",
      "\n",
      "sub:pubinfo {\n",
      "    sub:sig npx:hasAlgorithm \"RSA\" ;\n",
      "        npx:hasPublicKey \"MIGfMA0GCSqGSIb3DQEBAQUAA4GNADCBiQKBgQCwUtewGCpT5vIfXYE1bmf/Uqu1ojqnWdYxv+ySO80ul8Gu7m8KoyPAwuvaPj0lvPtHrg000qMmkxzKhYknEjq8v7EerxZNYp5B3/3+5ZpuWOYAs78UnQVjbHSmDdmryr4D4VvvNIiUmd0yxci47dTFUj4DvfHnGd6hVe5+goqdcwIDAQAB\" ;\n",
      "        npx:hasSignature \"Y21tm4dmdYmfnR6ndjiwW4F/XJNufnGUueUpaB9ARqfyQUcMCZop5bR9F/5nJpOAtGb6awnNlofYJSQwMJJHf3Xs+8fNTZNj3z2wNnHJmnjW/5T+M3GW0jT0+UCe/hA45QeXUpqa4eQp8oyEugwiUjV2nVE5D/QyyjBlLOapnmg=\" ;\n",
      "        npx:hasSignatureTarget this: .\n",
      "\n",
      "    this: a <https://example.org/> ;\n",
      "        prov:generatedAtTime \"2025-04-15T13:25:28.354116\"^^xsd:dateTime ;\n",
      "        prov:wasAttributedTo orcid:0000-0002-1267-0234 .\n",
      "}\n",
      "\n",
      "sub:assertion {\n",
      "    sub:foo a <https://example.org/test> .\n",
      "}\n",
      "\n",
      "sub:provenance {\n",
      "    sub:assertion prov:wasAttributedTo orcid:0000-0002-1267-0234 ;\n",
      "        prov:wasDerivedFrom <https://example.org/provenance> .\n",
      "}\n",
      "\n",
      "\n"
     ]
    }
   ],
   "source": [
    "print(np)"
   ]
  },
  {
   "cell_type": "code",
   "execution_count": 5,
   "id": "6e200b32-8b14-4708-a295-013fc5b02fd3",
   "metadata": {},
   "outputs": [
    {
     "name": "stdout",
     "output_type": "stream",
     "text": [
      "https://w3id.org/np/RAEsCWoKbEKujIYmlhhX8OaFg6DRgUt2fgsNiNpK5Ec-s\n"
     ]
    }
   ],
   "source": [
    "npuri = np.metadata.np_uri\n",
    "print(npuri)"
   ]
  },
  {
   "cell_type": "markdown",
   "id": "1b6b5458-d6ec-4b67-ac2f-40814cb92f96",
   "metadata": {},
   "source": [
    "### Publishing the nanopublication"
   ]
  },
  {
   "cell_type": "code",
   "execution_count": 6,
   "id": "04594731-b05b-4539-ba96-3afb8211c2ba",
   "metadata": {},
   "outputs": [],
   "source": [
    "np.publish()"
   ]
  },
  {
   "cell_type": "markdown",
   "id": "7a2df19a-8977-4633-a008-84fdcf916a60",
   "metadata": {},
   "source": [
    "# Fetch again the published nanopublication from the network"
   ]
  },
  {
   "cell_type": "code",
   "execution_count": 7,
   "id": "c3caf636-8dcc-4db9-8a64-94f909dc019c",
   "metadata": {},
   "outputs": [],
   "source": [
    "fetchConf = NanopubConf(\n",
    "    use_test_server=True\n",
    ")\n",
    "fetchNp = Nanopub(npuri, conf=fetchConf)"
   ]
  },
  {
   "cell_type": "code",
   "execution_count": 8,
   "id": "d9de99b4-208c-48d6-a2e5-293d46d40ae8",
   "metadata": {},
   "outputs": [
    {
     "name": "stdout",
     "output_type": "stream",
     "text": [
      "Nanopub URI: \u001b[1mhttps://w3id.org/np/RAEsCWoKbEKujIYmlhhX8OaFg6DRgUt2fgsNiNpK5Ec-s\u001b[0m\n",
      "@prefix np: <http://www.nanopub.org/nschema#> .\n",
      "@prefix npx: <http://purl.org/nanopub/x/> .\n",
      "@prefix orcid: <https://orcid.org/> .\n",
      "@prefix prov: <http://www.w3.org/ns/prov#> .\n",
      "@prefix sub: <https://w3id.org/np/RAEsCWoKbEKujIYmlhhX8OaFg6DRgUt2fgsNiNpK5Ec-s/> .\n",
      "@prefix this: <https://w3id.org/np/RAEsCWoKbEKujIYmlhhX8OaFg6DRgUt2fgsNiNpK5Ec-s> .\n",
      "@prefix xsd: <http://www.w3.org/2001/XMLSchema#> .\n",
      "\n",
      "sub:Head {\n",
      "    this: a np:Nanopublication ;\n",
      "        np:hasAssertion sub:assertion ;\n",
      "        np:hasProvenance sub:provenance ;\n",
      "        np:hasPublicationInfo sub:pubinfo .\n",
      "}\n",
      "\n",
      "sub:pubinfo {\n",
      "    sub:sig npx:hasAlgorithm \"RSA\" ;\n",
      "        npx:hasPublicKey \"MIGfMA0GCSqGSIb3DQEBAQUAA4GNADCBiQKBgQCwUtewGCpT5vIfXYE1bmf/Uqu1ojqnWdYxv+ySO80ul8Gu7m8KoyPAwuvaPj0lvPtHrg000qMmkxzKhYknEjq8v7EerxZNYp5B3/3+5ZpuWOYAs78UnQVjbHSmDdmryr4D4VvvNIiUmd0yxci47dTFUj4DvfHnGd6hVe5+goqdcwIDAQAB\" ;\n",
      "        npx:hasSignature \"Y21tm4dmdYmfnR6ndjiwW4F/XJNufnGUueUpaB9ARqfyQUcMCZop5bR9F/5nJpOAtGb6awnNlofYJSQwMJJHf3Xs+8fNTZNj3z2wNnHJmnjW/5T+M3GW0jT0+UCe/hA45QeXUpqa4eQp8oyEugwiUjV2nVE5D/QyyjBlLOapnmg=\" ;\n",
      "        npx:hasSignatureTarget this: .\n",
      "\n",
      "    this: a <https://example.org/> ;\n",
      "        prov:generatedAtTime \"2025-04-15T13:25:28.354116\"^^xsd:dateTime ;\n",
      "        prov:wasAttributedTo orcid:0000-0002-1267-0234 .\n",
      "}\n",
      "\n",
      "sub:assertion {\n",
      "    sub:foo a <https://example.org/test> .\n",
      "}\n",
      "\n",
      "sub:provenance {\n",
      "    sub:assertion prov:wasAttributedTo orcid:0000-0002-1267-0234 ;\n",
      "        prov:wasDerivedFrom <https://example.org/provenance> .\n",
      "}\n",
      "\n",
      "\n"
     ]
    }
   ],
   "source": [
    "print(fetchNp)"
   ]
  }
 ],
 "metadata": {
  "kernelspec": {
   "display_name": "Python 3 (ipykernel)",
   "language": "python",
   "name": "python3"
  },
  "language_info": {
   "codemirror_mode": {
    "name": "ipython",
    "version": 3
   },
   "file_extension": ".py",
   "mimetype": "text/x-python",
   "name": "python",
   "nbconvert_exporter": "python",
   "pygments_lexer": "ipython3",
   "version": "3.12.7"
  }
 },
 "nbformat": 4,
 "nbformat_minor": 5
}
