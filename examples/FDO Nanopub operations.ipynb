{
 "cells": [
  {
   "cell_type": "code",
   "execution_count": 1,
   "id": "828e6fd6-dcf8-499a-901d-730ac203a096",
   "metadata": {},
   "outputs": [],
   "source": [
    "import rdflib\n",
    "from rdflib.namespace import RDF, RDFS, SH, XSD\n",
    "from nanopub import (\n",
    "    definitions,\n",
    "    Nanopub,\n",
    "    NanopubClient,\n",
    "    load_profile,\n",
    "    NanopubConf,\n",
    ")\n",
    "from nanopub.fdo import (\n",
    "    FdoNanopub,\n",
    "    FdoRecord,\n",
    "    update_record,\n",
    "    retrieve_record_from_id,\n",
    "    retrieve_content_from_id,\n",
    "    validate_fdo_record,\n",
    "    resolve_id\n",
    ")\n",
    "import datetime\n",
    "from nanopub.namespaces import HDL, FDOF, PROV, NPX, NP\n",
    "from pyshacl import validate\n",
    "from rdflib import Graph, URIRef, Literal\n",
    "import requests\n",
    "import json\n"
   ]
  },
  {
   "cell_type": "code",
   "execution_count": 2,
   "id": "f3b87e9d-3521-41d8-a5ea-435dc3872868",
   "metadata": {},
   "outputs": [],
   "source": [
    "## Setup\n",
    "\n",
    "conf = NanopubConf(\n",
    "    add_prov_generated_time=False,\n",
    "    add_pubinfo_generated_time=True,\n",
    "    attribute_assertion_to_profile=True,\n",
    "    attribute_publication_to_profile=True,\n",
    "    profile=load_profile(),\n",
    "    use_test_server=True\n",
    ")\n",
    "\n",
    "## Define identifiers\n",
    "iri = \"https://w3id.org/np/RAsSeIyT03LnZt3QvtwUqIHSCJHWW1YeLkyu66Lg4FeBk/nanodash-readme\"\n",
    "handle_iri = \"https://hdl.handle.net/21.T11966/82045bd97a0acce88378\"\n",
    "handle_pid = \"21.T11966/82045bd97a0acce88378\"\n"
   ]
  },
  {
   "cell_type": "markdown",
   "id": "85b7658c-7081-4687-9445-ae3e61cf5ede",
   "metadata": {},
   "source": [
    "## Op.Resolve\n",
    "\n",
    "Retrieving key-value pairs from the FDO record for given FDO PID."
   ]
  },
  {
   "cell_type": "code",
   "execution_count": 3,
   "id": "70ed3af5-910b-4e3d-a4f2-df5f518e2a28",
   "metadata": {},
   "outputs": [
    {
     "name": "stdout",
     "output_type": "stream",
     "text": [
      "FDO Record\n",
      "  ID: test-fdo-profile\n",
      "  Label: Test FDO: README of Nanodash\n",
      "  Profile: https://w3id.org/np/RABPR2eJ7dbuf_OPDLztvRZI-el2_wBFkVBiPCLmr1Q50/test-fdo-profile\n",
      "FDO Record\n",
      "  ID: 996c38676da9ee56f8ab\n",
      "  Label: 21.T11966/82045bd97a0acce88378\n",
      "  Profile: https://hdl.handle.net/21.T11966/996c38676da9ee56f8ab\n",
      "FDO Record\n",
      "  ID: 996c38676da9ee56f8ab\n",
      "  Label: 21.T11966/82045bd97a0acce88378\n",
      "  Profile: https://hdl.handle.net/21.T11966/996c38676da9ee56f8ab\n"
     ]
    }
   ],
   "source": [
    "fdo_record_from_iri = resolve_id(iri)\n",
    "fdo_record_from_handle_iri = resolve_id(handle_iri)\n",
    "fdo_record_from_handle_pid = resolve_id(handle_pid)\n",
    "\n",
    "print(fdo_record_from_iri)\n",
    "print(fdo_record_from_handle_iri)\n",
    "print(fdo_record_from_handle_pid)"
   ]
  },
  {
   "cell_type": "markdown",
   "id": "99bc46f0-f217-4962-853c-a3dfbc1d9615",
   "metadata": {},
   "source": [
    "## Op.RetrieveContent\n",
    "Download the bitstream/file of an FDO."
   ]
  },
  {
   "cell_type": "code",
   "execution_count": 4,
   "id": "167b0d81-0c28-45f7-b30d-78478ba58cfa",
   "metadata": {},
   "outputs": [
    {
     "name": "stdout",
     "output_type": "stream",
     "text": [
      "Filename: N/A\n",
      "Content-Type: unknown\n",
      "Size: 2419 bytes\n",
      "Content preview (first 500 bytes):\n",
      "Nanodash\n",
      "========\n",
      "\n",
      "![logo](nanodash.png)\n",
      "\n",
      "Nanodash was previously called Nanobench.\n",
      "\n",
      "Nanodash is a client to browse and publish nanopublications.\n",
      "\n",
      "\n",
      "### Online Instances\n",
      "\n",
      "You can use Nanodash by login in via ORCID in one of the online instances:\n",
      "\n",
      "- https://nanodash.petapico.org/\n",
      "- https://nanodash.knowledgepixels.com/\n",
      "- https://nanodash.np.trustyuri.net/\n",
      "\n",
      "\n",
      "### Local Installation\n",
      "\n",
      "To use Nanodash locally, see the [installation instructions with Docker](INSTALL-with-Docker.md).\n",
      "\n",
      "\n",
      "### Screenshot\n",
      "\n",
      "Th\n"
     ]
    }
   ],
   "source": [
    "## Utility function to print the results of this operation\n",
    "def print_file_info(file_content: bytes, content_type: str = \"unknown\", filename: str = None):\n",
    "    print(f\"Filename: {filename or 'N/A'}\")\n",
    "    print(f\"Content-Type: {content_type}\")\n",
    "    print(f\"Size: {len(file_content)} bytes\")\n",
    "    print(\"Content preview (first 500 bytes):\")\n",
    "    try:\n",
    "        print(file_content[:500].decode(\"utf-8\"))\n",
    "    except UnicodeDecodeError:\n",
    "        print(file_content[:500])  # print raw bytes if not utf-8\n",
    "\n",
    "fdo_content_from_iri = retrieve_content_from_id(iri)\n",
    "print_file_info(fdo_content_from_iri)\n",
    "\n",
    "# TODO: replace with an FDO example with valid dataref\n",
    "#fdo_content_from_handle_iri = retrieve_content_from_id(handle_iri)\n",
    "#print_file_info(fdo_content_from_handle_iri)\n",
    "\n",
    "# TODO: replace with an FDO example with valid dataref\n",
    "#fdo_content_from_handle_pid = retrieve_content_from_id(handle_pid)\n",
    "#print_file_info(fdo_content_from_handle_pid)"
   ]
  },
  {
   "cell_type": "markdown",
   "id": "eeca28a8-d6df-492b-8a1a-1235d0c7bfdf",
   "metadata": {},
   "source": [
    "## Op.Validate\n",
    "Validate given FDO record according to its profile."
   ]
  },
  {
   "cell_type": "code",
   "execution_count": 7,
   "id": "9e5d2f4b-07f2-4d6e-bddd-15e8d5e0c971",
   "metadata": {},
   "outputs": [
    {
     "name": "stdout",
     "output_type": "stream",
     "text": [
      "Validation failed:\n",
      " True\n",
      "Valid FDO\n"
     ]
    }
   ],
   "source": [
    "# Step 1: Resolve PID\n",
    "fdo_record_from_iri = resolve_id(iri)\n",
    "\n",
    "# Step 2: Validate\n",
    "is_valid = validate_fdo_record(fdo_record_from_iri)\n",
    "print(\"Valid FDO\" if is_valid else \"Invalid FDO\")\n",
    "\n",
    "# TODO: examples with valid handle-based FDOs\n",
    "# Step 1: Resolve PID\n",
    "#fdo_record_from_handle_iri = resolve_id(handle_iri)\n",
    "\n",
    "# Step 2: Validate\n",
    "#validate_fdo_record(fdo_record_from_handle_iri)\n",
    "\n",
    "# Step 1: Resolve PID\n",
    "#fdo_record_from_handle_pid = resolve_id(handle_pid)\n",
    "\n",
    "# Step 2: Validate\n",
    "#validate_fdo_record(fdo_record_from_handle_pid)\n"
   ]
  },
  {
   "cell_type": "markdown",
   "id": "7d48393a-ec71-47ba-947c-bb75c212e444",
   "metadata": {},
   "source": [
    "## Op.Create\n",
    "Defining a new FDO by creating and publishing a new FDO record (for an existing file, or without file reference)."
   ]
  },
  {
   "cell_type": "code",
   "execution_count": 6,
   "id": "554fbde3-5afd-4f7a-8676-7b7f457139e6",
   "metadata": {},
   "outputs": [
    {
     "name": "stdout",
     "output_type": "stream",
     "text": [
      "@prefix dcterms: <http://purl.org/dc/terms/> .\n",
      "@prefix np: <http://www.nanopub.org/nschema#> .\n",
      "@prefix npx: <http://purl.org/nanopub/x/> .\n",
      "@prefix ns1: <https://w3id.org/fdof/ontology#> .\n",
      "@prefix rdfs: <http://www.w3.org/2000/01/rdf-schema#> .\n",
      "\n",
      "<http://purl.org/nanopub/temp/np/Head> {\n",
      "    <http://purl.org/nanopub/temp/np/> a np:Nanopublication ;\n",
      "        np:hasAssertion <http://purl.org/nanopub/temp/np/assertion> ;\n",
      "        np:hasProvenance <http://purl.org/nanopub/temp/np/provenance> ;\n",
      "        np:hasPublicationInfo <http://purl.org/nanopub/temp/np/pubinfo> .\n",
      "}\n",
      "\n",
      "<http://purl.org/nanopub/temp/np/pubinfo> {\n",
      "    <http://purl.org/nanopub/temp/np/> rdfs:label \"FAIR Digital Object: Test FDO\" ;\n",
      "        npx:introduces <https://example.org/example-fdo> .\n",
      "}\n",
      "\n",
      "<http://purl.org/nanopub/temp/np/assertion> {\n",
      "    <https://example.org/example-fdo> a ns1:FAIRDigitalObject ;\n",
      "        rdfs:label \"Test FDO\" ;\n",
      "        dcterms:conformsTo <https://hdl.handle.net/12345> ;\n",
      "        ns1:hasMetadata <http://purl.org/nanopub/temp/np/> .\n",
      "}\n",
      "\n",
      "\n"
     ]
    }
   ],
   "source": [
    "record = FdoRecord(\n",
    "    profile_uri=\"https://hdl.handle.net/12345\",\n",
    "    label=\"Test FDO\",\n",
    "    dataref=\"https://example.org/data/456\"\n",
    ")\n",
    "\n",
    "fdo_from_iri = FdoNanopub.create_with_fdo_iri(fdo_record=record, fdo_iri=\"https://example.org/example-fdo\")\n",
    "print(fdo_from_iri)"
   ]
  },
  {
   "cell_type": "markdown",
   "id": "803d84dd-1ab1-438a-931c-c0aa58c7979c",
   "metadata": {},
   "source": [
    "## Op.Handle2Nanopub\n",
    "\n",
    "This operation is transforming an existing Handle-based FDO record into a nanopublication-based one. "
   ]
  },
  {
   "cell_type": "code",
   "execution_count": 9,
   "id": "9960656c-586a-4641-82c0-e6bdd6db3a5d",
   "metadata": {},
   "outputs": [
    {
     "name": "stdout",
     "output_type": "stream",
     "text": [
      "@prefix dcterms: <http://purl.org/dc/terms/> .\n",
      "@prefix np: <http://www.nanopub.org/nschema#> .\n",
      "@prefix npx: <http://purl.org/nanopub/x/> .\n",
      "@prefix ns1: <https://hdl.handle.net/10320/> .\n",
      "@prefix ns2: <https://hdl.handle.net/21.T11966/> .\n",
      "@prefix ns3: <https://hdl.handle.net/0.TYPE/> .\n",
      "@prefix ns4: <https://w3id.org/fdof/ontology#> .\n",
      "@prefix rdfs: <http://www.w3.org/2000/01/rdf-schema#> .\n",
      "\n",
      "<http://purl.org/nanopub/temp/np/Head> {\n",
      "    <http://purl.org/nanopub/temp/np/> a np:Nanopublication ;\n",
      "        np:hasAssertion <http://purl.org/nanopub/temp/np/assertion> ;\n",
      "        np:hasProvenance <http://purl.org/nanopub/temp/np/provenance> ;\n",
      "        np:hasPublicationInfo <http://purl.org/nanopub/temp/np/pubinfo> .\n",
      "}\n",
      "\n",
      "<http://purl.org/nanopub/temp/np/pubinfo> {\n",
      "    <http://purl.org/nanopub/temp/np/> rdfs:label \"FAIR Digital Object: 21.T11966/82045bd97a0acce88378\" ;\n",
      "        npx:introduces ns2:82045bd97a0acce88378 .\n",
      "}\n",
      "\n",
      "<http://purl.org/nanopub/temp/np/assertion> {\n",
      "    ns2:82045bd97a0acce88378 a ns4:FAIRDigitalObject ;\n",
      "        rdfs:label \"21.T11966/82045bd97a0acce88378\" ;\n",
      "        dcterms:conformsTo ns2:996c38676da9ee56f8ab ;\n",
      "        ns3:DOIPService \"21.T11966/service\" ;\n",
      "        ns1:loc \"\"\"<locations>\n",
      "<location href=\"http://typeregistry.testbed.pid.gwdg.de/objects/21.T11966/82045bd97a0acce88378\" weight=\"0\" view=\"json\" />\n",
      "<location href=\"http://typeregistry.testbed.pid.gwdg.de/#objects/21.T11966/82045bd97a0acce88378\" weight=\"1\" view=\"ui\" />\n",
      "</locations>\"\"\" ;\n",
      "        ns2:JsonSchema \"{\\\"$ref\\\": \\\"https://typeapi.lab.pidconsortium.net/v1/types/schema/21.T11966/82045bd97a0acce88378\\\"}\" ;\n",
      "        ns2:b5b58656b1fa5aff0505 \"21.T11966/service\" ;\n",
      "        ns4:hasMetadata <http://purl.org/nanopub/temp/np/> .\n",
      "}\n",
      "\n",
      "\n"
     ]
    }
   ],
   "source": [
    "np = FdoNanopub.handle_to_nanopub(handle_pid)\n",
    "\n",
    "print(np)"
   ]
  },
  {
   "cell_type": "markdown",
   "id": "05f61ddb-66c8-40ad-b5a3-8ef95d126b88",
   "metadata": {},
   "source": [
    "## Op.Update record\n",
    "\n",
    "Updates the record of an FDO, keeping the same FDO PID."
   ]
  },
  {
   "cell_type": "code",
   "execution_count": 3,
   "id": "da5aeceb-a5e9-493c-9800-11005e521db0",
   "metadata": {},
   "outputs": [
    {
     "name": "stdout",
     "output_type": "stream",
     "text": [
      "Resolved record:\n",
      "FDO Record\n",
      "  ID: test-fdo-profile\n",
      "  Label: Test FDO: README of Nanodash\n",
      "  Profile: https://w3id.org/np/RABPR2eJ7dbuf_OPDLztvRZI-el2_wBFkVBiPCLmr1Q50/test-fdo-profile\n",
      "\n",
      "Created FdoNanopub with FDO IRI: https://w3id.org/np/RAAkEd5JKhtPFotAy6HADnaT3QXAhGxLPX6bJBNSrkka4\n",
      "\n",
      "Updated nanopub with new record data. Nanopub URI: https://w3id.org/np/RAAkEd5JKhtPFotAy6HADnaT3QXAhGxLPX6bJBNSrkka4\n",
      "\n",
      "Nanopub signed.\n",
      "\n",
      "Nanopub published at URI: ('https://w3id.org/np/RATHZzW6eb-NpJT66seBWWUdInupY1YJv8UvZPuDhOkek', 'https://test.registry.knowledgepixels.com/np/')\n",
      "\n"
     ]
    }
   ],
   "source": [
    "# Step 1: Resolve PID (handle or IRI)\n",
    "record = resolve_id(iri)\n",
    "print(f\"Resolved record:\\n{record}\\n\")\n",
    "\n",
    "# Step 2: Create a new FdoNanopub from the record \n",
    "\n",
    "npub = FdoNanopub.create_with_fdo_iri(\n",
    "    fdo_record=record,\n",
    "    fdo_iri=\"https://example.org/test-fdo\",\n",
    "    data_ref=record.get_data_ref(),\n",
    "    conf=conf\n",
    ")\n",
    "\n",
    "npub.publish()\n",
    "\n",
    "print(f\"Created FdoNanopub with FDO IRI: {npub.source_uri}\\n\")\n",
    "\n",
    "# Step 3: Update nanopub assertion from updated record \n",
    "\n",
    "record.set_property(RDFS.label, \"Updated Label via RDFS.label\")\n",
    "np_uri = update_record(npub, record)\n",
    "print(f\"Updated nanopub with new record data. Nanopub URI: {np_uri}\\n\")\n",
    "\n",
    "# Step 4: Sign the nanopub\n",
    "\n",
    "npub.sign()\n",
    "print(\"Nanopub signed.\\n\")\n",
    "\n",
    "# Step 5: Publish the nanopub \n",
    "\n",
    "published_uri = npub.publish()\n",
    "print(f\"Nanopub published at URI: {published_uri}\\n\")\n"
   ]
  }
 ],
 "metadata": {
  "kernelspec": {
   "display_name": "Python (nanopub-venv)",
   "language": "python",
   "name": "nanopub-venv"
  },
  "language_info": {
   "codemirror_mode": {
    "name": "ipython",
    "version": 3
   },
   "file_extension": ".py",
   "mimetype": "text/x-python",
   "name": "python",
   "nbconvert_exporter": "python",
   "pygments_lexer": "ipython3",
   "version": "3.11.11"
  }
 },
 "nbformat": 4,
 "nbformat_minor": 5
}
