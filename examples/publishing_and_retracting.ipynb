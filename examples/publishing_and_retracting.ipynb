{
 "cells": [
  {
   "cell_type": "code",
   "execution_count": 8,
   "metadata": {},
   "outputs": [],
   "source": [
    "import rdflib\n",
    "\n",
    "from nanopub import Publication, NanopubClient"
   ]
  },
  {
   "cell_type": "markdown",
   "metadata": {},
   "source": [
    "## Quickly publishing nanopublications using claim"
   ]
  },
  {
   "cell_type": "code",
   "execution_count": 2,
   "metadata": {},
   "outputs": [
    {
     "name": "stderr",
     "output_type": "stream",
     "text": [
      "/Users/svenvanderburg/projects/fair-workflows/nanopub/nanopub/profile.py:51: YAMLLoadWarning: calling yaml.load() without Loader=... is deprecated, as the default Loader is unsafe. Please read https://msg.pyyaml.org/load for full details.\n",
      "  return yaml.load(f)\n"
     ]
    },
    {
     "name": "stdout",
     "output_type": "stream",
     "text": [
      "Published to http://purl.org/np/RAcTwW_JdTqZJTXA4jUTFUj6ut8OI9AqaPb1IBPsLsy-o\n"
     ]
    }
   ],
   "source": [
    "# Create the client, that allows searching, fetching and publishing nanopubs\n",
    "client = NanopubClient(use_test_server=True)\n",
    "\n",
    "# Quickly publish a statement to the server\n",
    "pubinfo = client.claim('All cats are gray')"
   ]
  },
  {
   "cell_type": "code",
   "execution_count": 3,
   "metadata": {},
   "outputs": [],
   "source": [
    "# Let's fetch the published claim:\n",
    "published = client.fetch(pubinfo['nanopub_uri'])"
   ]
  },
  {
   "cell_type": "code",
   "execution_count": 4,
   "metadata": {},
   "outputs": [
    {
     "name": "stdout",
     "output_type": "stream",
     "text": [
      "@prefix hycl: <http://purl.org/petapico/o/hycl#> .\n",
      "@prefix rdfs: <http://www.w3.org/2000/01/rdf-schema#> .\n",
      "@prefix sub: <http://purl.org/np/RAcTwW_JdTqZJTXA4jUTFUj6ut8OI9AqaPb1IBPsLsy-o#> .\n",
      "\n",
      "sub:assertion {\n",
      "    sub:mystatement a hycl:Statement ;\n",
      "        rdfs:label \"All cats are gray\" .\n",
      "}\n",
      "\n",
      "\n"
     ]
    }
   ],
   "source": [
    "# Here is our statement!\n",
    "print(published.assertion.serialize(format='trig').decode())"
   ]
  },
  {
   "cell_type": "code",
   "execution_count": 6,
   "metadata": {},
   "outputs": [
    {
     "name": "stdout",
     "output_type": "stream",
     "text": [
      "@prefix hycl: <http://purl.org/petapico/o/hycl#> .\n",
      "@prefix prov: <http://www.w3.org/ns/prov#> .\n",
      "@prefix sub: <http://purl.org/np/RAcTwW_JdTqZJTXA4jUTFUj6ut8OI9AqaPb1IBPsLsy-o#> .\n",
      "@prefix xsd: <http://www.w3.org/2001/XMLSchema#> .\n",
      "\n",
      "sub:provenance {\n",
      "    sub:assertion prov:generatedAtTime \"2020-11-30T09:44:38.809739\"^^xsd:dateTime ;\n",
      "        prov:wasAttributedTo <https://orcid.org/0000-0000-0000-0000> .\n",
      "\n",
      "    <https://orcid.org/0000-0000-0000-0000> hycl:claims sub:mystatement .\n",
      "}\n",
      "\n",
      "\n"
     ]
    }
   ],
   "source": [
    "# The provenance denotes that I claimed it\n",
    "print(published.provenance.serialize(format='trig').decode())"
   ]
  },
  {
   "cell_type": "markdown",
   "metadata": {},
   "source": [
    "## Publishing a `Publication` object"
   ]
  },
  {
   "cell_type": "code",
   "execution_count": 10,
   "metadata": {},
   "outputs": [
    {
     "name": "stdout",
     "output_type": "stream",
     "text": [
      "Published to http://purl.org/np/RAkRcU_0FtVYLiFQ07D9tVLNL7nrHr8XT75fa790bd_vI\n"
     ]
    }
   ],
   "source": [
    "# Create the client (we use use_test_server=True to point to the test server)\n",
    "client = NanopubClient(use_test_server=True)\n",
    "\n",
    "# 1. construct a desired assertion (a graph of RDF triples) using rdflib\n",
    "my_assertion = rdflib.Graph()\n",
    "my_assertion.add((rdflib.URIRef('https://www.example.org/timbernerslee'),\n",
    "                  rdflib.RDF.type,\n",
    "                  rdflib.FOAF.Person))\n",
    "\n",
    "# 2. Make a Publication object with this assertion\n",
    "publication = Publication.from_assertion(assertion_rdf=my_assertion)\n",
    "\n",
    "# 3. Publish the Publication object. The URI at which it is published is returned.\n",
    "publication_info = client.publish(publication)"
   ]
  },
  {
   "cell_type": "code",
   "execution_count": 12,
   "metadata": {},
   "outputs": [],
   "source": [
    "# Let's fetch the published claim:\n",
    "published = client.fetch(publication_info['nanopub_uri'])"
   ]
  },
  {
   "cell_type": "code",
   "execution_count": 13,
   "metadata": {},
   "outputs": [
    {
     "name": "stdout",
     "output_type": "stream",
     "text": [
      "@prefix sub: <http://purl.org/np/RAkRcU_0FtVYLiFQ07D9tVLNL7nrHr8XT75fa790bd_vI#> .\n",
      "\n",
      "sub:assertion {\n",
      "    <https://www.example.org/timbernerslee> a <http://xmlns.com/foaf/0.1/Person> .\n",
      "}\n",
      "\n",
      "\n"
     ]
    }
   ],
   "source": [
    "# Here is our assertion!\n",
    "print(published.assertion.serialize(format='trig').decode())"
   ]
  },
  {
   "cell_type": "code",
   "execution_count": 14,
   "metadata": {},
   "outputs": [
    {
     "name": "stdout",
     "output_type": "stream",
     "text": [
      "@prefix prov: <http://www.w3.org/ns/prov#> .\n",
      "@prefix sub: <http://purl.org/np/RAkRcU_0FtVYLiFQ07D9tVLNL7nrHr8XT75fa790bd_vI#> .\n",
      "@prefix xsd: <http://www.w3.org/2001/XMLSchema#> .\n",
      "\n",
      "sub:provenance {\n",
      "    sub:assertion prov:generatedAtTime \"2020-11-30T11:48:26.417427\"^^xsd:dateTime .\n",
      "}\n",
      "\n",
      "\n"
     ]
    }
   ],
   "source": [
    "# The provenance\n",
    "print(published.provenance.serialize(format='trig').decode())"
   ]
  },
  {
   "cell_type": "code",
   "execution_count": 15,
   "metadata": {},
   "outputs": [
    {
     "name": "stdout",
     "output_type": "stream",
     "text": [
      "@prefix npx: <http://purl.org/nanopub/x/> .\n",
      "@prefix prov: <http://www.w3.org/ns/prov#> .\n",
      "@prefix sub: <http://purl.org/np/RAkRcU_0FtVYLiFQ07D9tVLNL7nrHr8XT75fa790bd_vI#> .\n",
      "@prefix this: <http://purl.org/np/RAkRcU_0FtVYLiFQ07D9tVLNL7nrHr8XT75fa790bd_vI> .\n",
      "@prefix xsd: <http://www.w3.org/2001/XMLSchema#> .\n",
      "\n",
      "sub:pubInfo {\n",
      "    sub:sig npx:hasAlgorithm \"RSA\" ;\n",
      "        npx:hasPublicKey \"MIGfMA0GCSqGSIb3DQEBAQUAA4GNADCBiQKBgQCmso7vmRO/Cp4Pt0RkJJkV5qfc1WFYU/jMtkdxxb5+lfIVXNV97XQnM1Tj4fkb/W6jkP6fHl8mj8Q7hl7VgUnQ6I+B7cMGpxW9Z8Br+JNx8DPMMt08VCH5+JMENPRKl91r7rF/YPWCAgL9eqXSixCNMNAj5RBmMTQoPuRkpgmt1wIDAQAB\" ;\n",
      "        npx:hasSignature \"H9U/gpNX0nWgyqBjTTKD1/WdjDk4j9eTaF+Kzxym4haYORnz6jhDoC7hKnSGgs+Gc/puFn5XeokjLrXronRrTWkYU8orpGNK9sMkNnGkXzLBSgJBmCervpAt8XNAUevHNtJiVhRiMKIo6Tw+xO2yTsoFV8Qj9uUjGLuPnUg8Isw=\" ;\n",
      "        npx:hasSignatureTarget this: .\n",
      "\n",
      "    this: prov:generatedAtTime \"2020-11-30T11:48:26.417427\"^^xsd:dateTime ;\n",
      "        prov:wasAttributedTo <https://orcid.org/0000-0000-0000-0000> .\n",
      "}\n",
      "\n",
      "\n"
     ]
    }
   ],
   "source": [
    "# The publication info\n",
    "print(published.pubinfo.serialize(format='trig').decode())"
   ]
  },
  {
   "cell_type": "markdown",
   "metadata": {},
   "source": [
    "## Retract a nanopublication"
   ]
  },
  {
   "cell_type": "code",
   "execution_count": 24,
   "metadata": {},
   "outputs": [
    {
     "name": "stdout",
     "output_type": "stream",
     "text": [
      "Published to http://purl.org/np/RAOLg94DSpgPVifZZvhwkJ6NBl558pVXaclrgEYhLpfoI\n"
     ]
    }
   ],
   "source": [
    "pubinfo = client.retract(pubinfo['nanopub_uri'])"
   ]
  },
  {
   "cell_type": "code",
   "execution_count": 25,
   "metadata": {},
   "outputs": [],
   "source": [
    "# Let's fetch the published retraction:\n",
    "retraction = client.fetch(pubinfo['nanopub_uri'])"
   ]
  },
  {
   "cell_type": "code",
   "execution_count": 27,
   "metadata": {},
   "outputs": [
    {
     "name": "stdout",
     "output_type": "stream",
     "text": [
      "@prefix npx: <http://purl.org/nanopub/x/> .\n",
      "@prefix sub: <http://purl.org/np/RAOLg94DSpgPVifZZvhwkJ6NBl558pVXaclrgEYhLpfoI#> .\n",
      "\n",
      "sub:assertion {\n",
      "    <https://orcid.org/0000-0000-0000-0000> npx:retracts <http://purl.org/np/RATMPukkNTN19gPFX8WZiU8KTZ3xzxxnC2JNAZFs7e3nQ> .\n",
      "}\n",
      "\n",
      "\n"
     ]
    }
   ],
   "source": [
    "# Here is our retraction!\n",
    "print(retraction.assertion.serialize(format='trig').decode())"
   ]
  },
  {
   "cell_type": "markdown",
   "metadata": {},
   "source": [
    "## Retraction of nanopublications that are not yours\n",
    "By default we do not retract nanopublications that are not yours (i.e. signed with another public key)"
   ]
  },
  {
   "cell_type": "code",
   "execution_count": 30,
   "metadata": {},
   "outputs": [
    {
     "ename": "AssertionError",
     "evalue": "The public key in your profile does not match the public keythat the publication that you want to retract is signed with. Use force=True to force retraction anyway.",
     "output_type": "error",
     "traceback": [
      "\u001b[0;31m---------------------------------------------------------------------------\u001b[0m",
      "\u001b[0;31mAssertionError\u001b[0m                            Traceback (most recent call last)",
      "\u001b[0;32m<ipython-input-30-7141d9e82fbc>\u001b[0m in \u001b[0;36m<module>\u001b[0;34m\u001b[0m\n\u001b[1;32m      1\u001b[0m \u001b[0mnot_my_nanopub_uri\u001b[0m \u001b[0;34m=\u001b[0m \u001b[0;34m'http://purl.org/np/RAr6rs7o8Sr5OGCs0127ah37DYUvgiWzjOuCvV-OSusAk'\u001b[0m\u001b[0;34m\u001b[0m\u001b[0;34m\u001b[0m\u001b[0m\n\u001b[0;32m----> 2\u001b[0;31m \u001b[0mclient\u001b[0m\u001b[0;34m.\u001b[0m\u001b[0mretract\u001b[0m\u001b[0;34m(\u001b[0m\u001b[0mnot_my_nanopub_uri\u001b[0m\u001b[0;34m)\u001b[0m\u001b[0;34m\u001b[0m\u001b[0;34m\u001b[0m\u001b[0m\n\u001b[0m",
      "\u001b[0;32m~/projects/fair-workflows/nanopub/nanopub/client.py\u001b[0m in \u001b[0;36mretract\u001b[0;34m(self, uri, force)\u001b[0m\n\u001b[1;32m    265\u001b[0m         \"\"\"\n\u001b[1;32m    266\u001b[0m         \u001b[0;32mif\u001b[0m \u001b[0;32mnot\u001b[0m \u001b[0mforce\u001b[0m\u001b[0;34m:\u001b[0m\u001b[0;34m\u001b[0m\u001b[0;34m\u001b[0m\u001b[0m\n\u001b[0;32m--> 267\u001b[0;31m             \u001b[0mself\u001b[0m\u001b[0;34m.\u001b[0m\u001b[0m_check_public_keys_match\u001b[0m\u001b[0;34m(\u001b[0m\u001b[0muri\u001b[0m\u001b[0;34m)\u001b[0m\u001b[0;34m\u001b[0m\u001b[0;34m\u001b[0m\u001b[0m\n\u001b[0m\u001b[1;32m    268\u001b[0m         \u001b[0massertion_rdf\u001b[0m \u001b[0;34m=\u001b[0m \u001b[0mrdflib\u001b[0m\u001b[0;34m.\u001b[0m\u001b[0mGraph\u001b[0m\u001b[0;34m(\u001b[0m\u001b[0;34m)\u001b[0m\u001b[0;34m\u001b[0m\u001b[0;34m\u001b[0m\u001b[0m\n\u001b[1;32m    269\u001b[0m         \u001b[0morcid_id\u001b[0m \u001b[0;34m=\u001b[0m \u001b[0mprofile\u001b[0m\u001b[0;34m.\u001b[0m\u001b[0mget_orcid_id\u001b[0m\u001b[0;34m(\u001b[0m\u001b[0;34m)\u001b[0m\u001b[0;34m\u001b[0m\u001b[0;34m\u001b[0m\u001b[0m\n",
      "\u001b[0;32m~/projects/fair-workflows/nanopub/nanopub/client.py\u001b[0m in \u001b[0;36m_check_public_keys_match\u001b[0;34m(self, uri)\u001b[0m\n\u001b[1;32m    245\u001b[0m                               f'this one: {their_public_key}')\n\u001b[1;32m    246\u001b[0m             \u001b[0;32mif\u001b[0m \u001b[0mtheir_public_key\u001b[0m \u001b[0;34m!=\u001b[0m \u001b[0mprofile\u001b[0m\u001b[0;34m.\u001b[0m\u001b[0mget_public_key\u001b[0m\u001b[0;34m(\u001b[0m\u001b[0;34m)\u001b[0m\u001b[0;34m:\u001b[0m\u001b[0;34m\u001b[0m\u001b[0;34m\u001b[0m\u001b[0m\n\u001b[0;32m--> 247\u001b[0;31m                 raise AssertionError('The public key in your profile does not match the public key'\n\u001b[0m\u001b[1;32m    248\u001b[0m                                      \u001b[0;34m'that the publication that you want to retract is signed '\u001b[0m\u001b[0;34m\u001b[0m\u001b[0;34m\u001b[0m\u001b[0m\n\u001b[1;32m    249\u001b[0m                                      'with. Use force=True to force retraction anyway.')\n",
      "\u001b[0;31mAssertionError\u001b[0m: The public key in your profile does not match the public keythat the publication that you want to retract is signed with. Use force=True to force retraction anyway."
     ]
    }
   ],
   "source": [
    "not_my_nanopub_uri = 'http://purl.org/np/RAr6rs7o8Sr5OGCs0127ah37DYUvgiWzjOuCvV-OSusAk'\n",
    "client.retract(not_my_nanopub_uri)"
   ]
  },
  {
   "cell_type": "code",
   "execution_count": 31,
   "metadata": {},
   "outputs": [
    {
     "name": "stdout",
     "output_type": "stream",
     "text": [
      "Published to http://purl.org/np/RAfMWLbfKwXT9cSVmvH-Ssl5t8E2IRfn8MxvEMeEdFyLw\n"
     ]
    },
    {
     "data": {
      "text/plain": [
       "{'nanopub_uri': 'http://purl.org/np/RAfMWLbfKwXT9cSVmvH-Ssl5t8E2IRfn8MxvEMeEdFyLw'}"
      ]
     },
     "execution_count": 31,
     "metadata": {},
     "output_type": "execute_result"
    }
   ],
   "source": [
    "# We can use force=True to override this behavior\n",
    "client.retract(not_my_nanopub_uri, force=True)"
   ]
  },
  {
   "cell_type": "code",
   "execution_count": null,
   "metadata": {},
   "outputs": [],
   "source": []
  }
 ],
 "metadata": {
  "kernelspec": {
   "display_name": "Python [conda env:fair3.6] *",
   "language": "python",
   "name": "conda-env-fair3.6-py"
  },
  "language_info": {
   "codemirror_mode": {
    "name": "ipython",
    "version": 3
   },
   "file_extension": ".py",
   "mimetype": "text/x-python",
   "name": "python",
   "nbconvert_exporter": "python",
   "pygments_lexer": "ipython3",
   "version": "3.6.10"
  }
 },
 "nbformat": 4,
 "nbformat_minor": 4
}
