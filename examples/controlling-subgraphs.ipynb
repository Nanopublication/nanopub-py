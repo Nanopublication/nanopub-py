{
 "cells": [
  {
   "cell_type": "markdown",
   "metadata": {},
   "source": [
    "# Controlling publication info and provenance"
   ]
  },
  {
   "cell_type": "code",
   "execution_count": 1,
   "metadata": {},
   "outputs": [],
   "source": [
    "import rdflib\n",
    "from nanopub import namespaces, Publication"
   ]
  },
  {
   "cell_type": "markdown",
   "metadata": {},
   "source": [
    "## Specifying where the nanopublication is derived from\n",
    "You can specify that the nanopub's assertion is derived from another URI (such as an existing nanopublication):"
   ]
  },
  {
   "cell_type": "code",
   "execution_count": 3,
   "metadata": {},
   "outputs": [],
   "source": [
    "my_assertion = rdflib.Graph()\n",
    "my_assertion.add((rdflib.URIRef('https://www.example.org/timbernerslee'),\n",
    "                  rdflib.RDF.type,\n",
    "                  rdflib.FOAF.Person))\n",
    "\n",
    "publication = Publication.from_assertion(\n",
    "    assertion_rdf=my_assertion,\n",
    "    derived_from=rdflib.URIRef('http://www.example.org/another-nanopublication'))"
   ]
  },
  {
   "cell_type": "code",
   "execution_count": 7,
   "metadata": {},
   "outputs": [
    {
     "name": "stdout",
     "output_type": "stream",
     "text": [
      "@prefix : <http://purl.org/nanopub/temp/mynanopub#> .\n",
      "@prefix prov: <http://www.w3.org/ns/prov#> .\n",
      "@prefix xsd: <http://www.w3.org/2001/XMLSchema#> .\n",
      "\n",
      ":provenance {\n",
      "    :assertion prov:generatedAtTime \"2020-11-30T13:00:54.880317\"^^xsd:dateTime ;\n",
      "        prov:wasDerivedFrom <http://www.example.org/another-nanopublication> .\n",
      "}\n",
      "\n",
      "\n"
     ]
    }
   ],
   "source": [
    "print(publication.provenance.serialize(format='trig').decode())"
   ]
  },
  {
   "cell_type": "markdown",
   "metadata": {},
   "source": [
    "## Attributing the assertion to someone\n",
    "You can attribute the assertion to someone by specifying the `assertion_attributed_to` argument:"
   ]
  },
  {
   "cell_type": "code",
   "execution_count": 15,
   "metadata": {},
   "outputs": [],
   "source": [
    "publication = Publication.from_assertion(\n",
    "    assertion_rdf=my_assertion,\n",
    "    assertion_attributed_to=rdflib.URIRef('https://orcid.org/0000-0000-0000-0000'))"
   ]
  },
  {
   "cell_type": "code",
   "execution_count": 16,
   "metadata": {},
   "outputs": [
    {
     "name": "stdout",
     "output_type": "stream",
     "text": [
      "@prefix : <http://purl.org/nanopub/temp/mynanopub#> .\n",
      "@prefix prov: <http://www.w3.org/ns/prov#> .\n",
      "@prefix xsd: <http://www.w3.org/2001/XMLSchema#> .\n",
      "\n",
      ":provenance {\n",
      "    :assertion prov:generatedAtTime \"2020-11-30T13:11:22.666486\"^^xsd:dateTime ;\n",
      "        prov:wasAttributedTo <https://orcid.org/0000-0000-0000-0000> .\n",
      "}\n",
      "\n",
      "\n"
     ]
    }
   ],
   "source": [
    "print(publication.provenance.serialize(format='trig').decode())"
   ]
  },
  {
   "cell_type": "code",
   "execution_count": 13,
   "metadata": {},
   "outputs": [],
   "source": [
    "publication = Publication.from_assertion(\n",
    "    assertion_rdf=my_assertion,\n",
    "    attribute_assertion_to_profile=True)"
   ]
  },
  {
   "cell_type": "code",
   "execution_count": 14,
   "metadata": {},
   "outputs": [
    {
     "name": "stdout",
     "output_type": "stream",
     "text": [
      "@prefix : <http://purl.org/nanopub/temp/mynanopub#> .\n",
      "@prefix prov: <http://www.w3.org/ns/prov#> .\n",
      "@prefix xsd: <http://www.w3.org/2001/XMLSchema#> .\n",
      "\n",
      ":provenance {\n",
      "    :assertion prov:generatedAtTime \"2020-11-30T13:10:49.919716\"^^xsd:dateTime ;\n",
      "        prov:wasAttributedTo <https://orcid.org/0000-0000-0000-0000> .\n",
      "}\n",
      "\n",
      "\n"
     ]
    }
   ],
   "source": [
    "print(publication.provenance.serialize(format='trig').decode())"
   ]
  },
  {
   "cell_type": "code",
   "execution_count": null,
   "metadata": {},
   "outputs": [],
   "source": []
  }
 ],
 "metadata": {
  "kernelspec": {
   "display_name": "Python [conda env:fair3.6] *",
   "language": "python",
   "name": "conda-env-fair3.6-py"
  },
  "language_info": {
   "codemirror_mode": {
    "name": "ipython",
    "version": 3
   },
   "file_extension": ".py",
   "mimetype": "text/x-python",
   "name": "python",
   "nbconvert_exporter": "python",
   "pygments_lexer": "ipython3",
   "version": "3.6.10"
  }
 },
 "nbformat": 4,
 "nbformat_minor": 4
}
